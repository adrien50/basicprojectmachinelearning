{
  "nbformat": 4,
  "nbformat_minor": 0,
  "metadata": {
    "colab": {
      "name": " Google Sheets is an o",
      "provenance": [],
      "authorship_tag": "ABX9TyPMU1KRFIjZv/678px9kh1e",
      "include_colab_link": true
    },
    "kernelspec": {
      "name": "python3",
      "display_name": "Python 3"
    },
    "language_info": {
      "name": "python"
    }
  },
  "cells": [
    {
      "cell_type": "markdown",
      "metadata": {
        "id": "view-in-github",
        "colab_type": "text"
      },
      "source": [
        "<a href=\"https://colab.research.google.com/github/adrien50/basicprojectmachinelearning/blob/main/Google_Sheets_is_an_o.ipynb\" target=\"_parent\"><img src=\"https://colab.research.google.com/assets/colab-badge.svg\" alt=\"Open In Colab\"/></a>"
      ]
    },
    {
      "cell_type": "markdown",
      "metadata": {
        "id": "8ZHnU8PD0-Sc"
      },
      "source": [
        "Google Sheets is an online spreadsheet service from Google that lets you create spreadsheets in the cloud. Reading Google Sheets is different from reading a Microsoft Excel or CSV file using Python. So in this article, I’m going to walk you through how to read data from Google Sheets using Python for Data Science.\n",
        "\n",
        "\n",
        " \n",
        "You can easily create a spreadsheet in Google Sheets, it is very same as Microsoft Excel spreadsheets. For this task, you need to have a spreadsheet on Google Sheets that you can create or upload an Excel file to Google Sheets.\n",
        "\n",
        "##Read Data From Excel Sheets using Python\n",
        "Reading data from Google Sheets is not possible in an IDE or a code editor in our systems. For this task, you need to use Google Colab, another service from Google for creating Jupyter notebooks. You must have used Google Colab for any data science project before."
      ]
    },
    {
      "cell_type": "code",
      "metadata": {
        "id": "8Ap_xugjxQ8f"
      },
      "source": [
        "from google.colab import auth\n",
        "auth.authenticate_user()\n",
        "import requests\n",
        "import gspread\n",
        "from oauth2client.client import GoogleCredentials\n",
        "gc = gspread.authorize(GoogleCredentials.get_application_default())"
      ],
      "execution_count": null,
      "outputs": []
    },
    {
      "cell_type": "markdown",
      "metadata": {
        "id": "a_Sf6MKI1u98"
      },
      "source": [
        "## Final Step: Using Python Pandas\n",
        "You’ve connected Google Colab to Sheets, now let’s see how to read Google Sheets using Python for data science using Pandas library in Python:"
      ]
    },
    {
      "cell_type": "code",
      "metadata": {
        "colab": {
          "base_uri": "https://localhost:8080/",
          "height": 204
        },
        "id": "ps4zlNoM0R7V",
        "outputId": "781a9807-2ea7-4082-ff30-760bb02f701d"
      },
      "source": [
        "import pandas as pd\n",
        "sheetname=\"AAPL\" # Enter Sheet name without using extention\n",
        "sh = gc.open(sheetname)\n",
        "worksheet = sh.sheet1\n",
        "values_list = worksheet.get_all_values()\n",
        "df = pd.DataFrame(values_list)\n",
        "df.head()"
      ],
      "execution_count": null,
      "outputs": [
        {
          "output_type": "execute_result",
          "data": {
            "text/html": [
              "<div>\n",
              "<style scoped>\n",
              "    .dataframe tbody tr th:only-of-type {\n",
              "        vertical-align: middle;\n",
              "    }\n",
              "\n",
              "    .dataframe tbody tr th {\n",
              "        vertical-align: top;\n",
              "    }\n",
              "\n",
              "    .dataframe thead th {\n",
              "        text-align: right;\n",
              "    }\n",
              "</style>\n",
              "<table border=\"1\" class=\"dataframe\">\n",
              "  <thead>\n",
              "    <tr style=\"text-align: right;\">\n",
              "      <th></th>\n",
              "      <th>0</th>\n",
              "      <th>1</th>\n",
              "      <th>2</th>\n",
              "      <th>3</th>\n",
              "      <th>4</th>\n",
              "      <th>5</th>\n",
              "      <th>6</th>\n",
              "    </tr>\n",
              "  </thead>\n",
              "  <tbody>\n",
              "    <tr>\n",
              "      <th>0</th>\n",
              "      <td>Date</td>\n",
              "      <td>Open</td>\n",
              "      <td>High</td>\n",
              "      <td>Low</td>\n",
              "      <td>Close</td>\n",
              "      <td>Adj Close</td>\n",
              "      <td>Volume</td>\n",
              "    </tr>\n",
              "    <tr>\n",
              "      <th>1</th>\n",
              "      <td>2020-04-20</td>\n",
              "      <td>69.487503</td>\n",
              "      <td>70.419998</td>\n",
              "      <td>69.212502</td>\n",
              "      <td>69.232498</td>\n",
              "      <td>68.583473</td>\n",
              "      <td>130015200</td>\n",
              "    </tr>\n",
              "    <tr>\n",
              "      <th>2</th>\n",
              "      <td>2020-04-21</td>\n",
              "      <td>69.070000</td>\n",
              "      <td>69.312500</td>\n",
              "      <td>66.357498</td>\n",
              "      <td>67.092499</td>\n",
              "      <td>66.463539</td>\n",
              "      <td>180991600</td>\n",
              "    </tr>\n",
              "    <tr>\n",
              "      <th>3</th>\n",
              "      <td>2020-04-22</td>\n",
              "      <td>68.402496</td>\n",
              "      <td>69.474998</td>\n",
              "      <td>68.050003</td>\n",
              "      <td>69.025002</td>\n",
              "      <td>68.377922</td>\n",
              "      <td>116862400</td>\n",
              "    </tr>\n",
              "    <tr>\n",
              "      <th>4</th>\n",
              "      <td>2020-04-23</td>\n",
              "      <td>68.967499</td>\n",
              "      <td>70.437500</td>\n",
              "      <td>68.717499</td>\n",
              "      <td>68.757500</td>\n",
              "      <td>68.112923</td>\n",
              "      <td>124814400</td>\n",
              "    </tr>\n",
              "  </tbody>\n",
              "</table>\n",
              "</div>"
            ],
            "text/plain": [
              "            0          1          2          3          4          5          6\n",
              "0        Date       Open       High        Low      Close  Adj Close     Volume\n",
              "1  2020-04-20  69.487503  70.419998  69.212502  69.232498  68.583473  130015200\n",
              "2  2020-04-21  69.070000  69.312500  66.357498  67.092499  66.463539  180991600\n",
              "3  2020-04-22  68.402496  69.474998  68.050003  69.025002  68.377922  116862400\n",
              "4  2020-04-23  68.967499  70.437500  68.717499  68.757500  68.112923  124814400"
            ]
          },
          "metadata": {
            "tags": []
          },
          "execution_count": 4
        }
      ]
    }
  ]
}