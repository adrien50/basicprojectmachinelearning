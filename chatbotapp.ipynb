{
  "nbformat": 4,
  "nbformat_minor": 0,
  "metadata": {
    "colab": {
      "name": "chatbotapp.ipynb",
      "provenance": [],
      "authorship_tag": "ABX9TyMzQkgTeNkUHI33b/a7JK9O",
      "include_colab_link": true
    },
    "kernelspec": {
      "name": "python3",
      "display_name": "Python 3"
    }
  },
  "cells": [
    {
      "cell_type": "markdown",
      "metadata": {
        "id": "view-in-github",
        "colab_type": "text"
      },
      "source": [
        "<a href=\"https://colab.research.google.com/github/adrien50/basicprojectmachinelearning/blob/main/chatbotapp.ipynb\" target=\"_parent\"><img src=\"https://colab.research.google.com/assets/colab-badge.svg\" alt=\"Open In Colab\"/></a>"
      ]
    },
    {
      "cell_type": "code",
      "metadata": {
        "id": "kZ_IlWqqSVus"
      },
      "source": [
        ""
      ],
      "execution_count": null,
      "outputs": []
    },
    {
      "cell_type": "markdown",
      "metadata": {
        "id": "RNAirbIBSYJu"
      },
      "source": [
        "An AI Chatbot is one of the most achieved goals in the field of Artificial Intelligence. Today Chatbot can help you in every way from assisting you to order something online to guide you through a Business Plan. Every Brand is having an AI Chatbot for their purposes. In this article, I will show you how you can build your own AI Chatbot.\r\n",
        "\r\n",
        "###What is a Chatbot?\r\n",
        "A chatbot is an Artificial Intelligence program which is built on the purpose of interacting with a user based on their respective queries. It uses the process of Natural Language for interaction with a user. A chatbot is based on doing the analysis of the question of the user and then returning the response of the user. This is the idea behind a Chatbot."
      ]
    },
    {
      "cell_type": "code",
      "metadata": {
        "colab": {
          "base_uri": "https://localhost:8080/"
        },
        "id": "or2v2aH3TKdJ",
        "outputId": "c9ab9ab9-9ade-4d3c-ff55-4a6750fd51ec"
      },
      "source": [
        "!pip install chatterbot"
      ],
      "execution_count": 2,
      "outputs": [
        {
          "output_type": "stream",
          "text": [
            "Collecting chatterbot\n",
            "\u001b[?25l  Downloading https://files.pythonhosted.org/packages/7c/21/85c2b114bd9dfabdd46ba58fc4519acdaed45d8c70898d40079e37a45e67/ChatterBot-1.0.8-py2.py3-none-any.whl (63kB)\n",
            "\r\u001b[K     |█████▏                          | 10kB 9.0MB/s eta 0:00:01\r\u001b[K     |██████████▎                     | 20kB 13.4MB/s eta 0:00:01\r\u001b[K     |███████████████▌                | 30kB 12.0MB/s eta 0:00:01\r\u001b[K     |████████████████████▋           | 40kB 9.4MB/s eta 0:00:01\r\u001b[K     |█████████████████████████▊      | 51kB 10.7MB/s eta 0:00:01\r\u001b[K     |███████████████████████████████ | 61kB 10.6MB/s eta 0:00:01\r\u001b[K     |████████████████████████████████| 71kB 4.0MB/s \n",
            "\u001b[?25hRequirement already satisfied: pytz in /usr/local/lib/python3.6/dist-packages (from chatterbot) (2018.9)\n",
            "Requirement already satisfied: python-dateutil<2.9,>=2.8 in /usr/local/lib/python3.6/dist-packages (from chatterbot) (2.8.1)\n",
            "Requirement already satisfied: sqlalchemy<1.4,>=1.3 in /usr/local/lib/python3.6/dist-packages (from chatterbot) (1.3.23)\n",
            "Collecting mathparse<0.2,>=0.1\n",
            "  Downloading https://files.pythonhosted.org/packages/c3/e5/4910fb85950cb960fcf3f5aabe1c8e55f5c9201788a1c1302b570a7e1f84/mathparse-0.1.2-py3-none-any.whl\n",
            "Requirement already satisfied: six>=1.5 in /usr/local/lib/python3.6/dist-packages (from python-dateutil<2.9,>=2.8->chatterbot) (1.15.0)\n",
            "Installing collected packages: mathparse, chatterbot\n",
            "Successfully installed chatterbot-1.0.8 mathparse-0.1.2\n"
          ],
          "name": "stdout"
        }
      ]
    },
    {
      "cell_type": "markdown",
      "metadata": {
        "id": "nhj9FOVQSrFg"
      },
      "source": [
        "###Building an AI Chatbot"
      ]
    },
    {
      "cell_type": "code",
      "metadata": {
        "id": "uYwrgMJSSY1x"
      },
      "source": [
        "#Importing modules\r\n",
        "from chatterbot import ChatBot\r\n",
        "from chatterbot.trainers import ListTrainer\r\n",
        "from chatterbot.trainers import ChatterBotCorpusTrainer"
      ],
      "execution_count": 3,
      "outputs": []
    },
    {
      "cell_type": "code",
      "metadata": {
        "id": "7eaRTMGGUJaB"
      },
      "source": [
        "BankBot = ChatBot(name = 'BankBot',\r\n",
        "                  read_only = False,                  \r\n",
        "                  logic_adapters = [\"chatterbot.logic.BestMatch\"],                 \r\n",
        "                  storage_adapter = \"chatterbot.storage.SQLStorageAdapter\")"
      ],
      "execution_count": 6,
      "outputs": []
    },
    {
      "cell_type": "markdown",
      "metadata": {
        "id": "vvy0WGkfTdPy"
      },
      "source": [
        "This chatbot will be based on some bank queries, to move further let’s make instances:"
      ]
    },
    {
      "cell_type": "code",
      "metadata": {
        "colab": {
          "base_uri": "https://localhost:8080/"
        },
        "id": "degrJarnTd4P",
        "outputId": "81d44759-3a42-49c8-972e-cf1439efe47d"
      },
      "source": [
        "!pip install chatterbot-corpus\r\n",
        "corpus_trainer = ChatterBotCorpusTrainer(BankBot)\r\n",
        "corpus_trainer.train(\"chatterbot.corpus.english\")"
      ],
      "execution_count": 7,
      "outputs": [
        {
          "output_type": "stream",
          "text": [
            "Requirement already satisfied: chatterbot-corpus in /usr/local/lib/python3.6/dist-packages (1.2.0)\n",
            "Requirement already satisfied: PyYAML<4.0,>=3.12 in /usr/local/lib/python3.6/dist-packages (from chatterbot-corpus) (3.13)\n",
            "Training ai.yml: [####################] 100%\n",
            "Training botprofile.yml: [####################] 100%\n",
            "Training computers.yml: [####################] 100%\n",
            "Training conversations.yml: [####################] 100%\n",
            "Training emotion.yml: [####################] 100%\n",
            "Training food.yml: [####################] 100%\n",
            "Training gossip.yml: [####################] 100%\n",
            "Training greetings.yml: [####################] 100%\n",
            "Training health.yml: [####################] 100%\n",
            "Training history.yml: [####################] 100%\n",
            "Training humor.yml: [####################] 100%\n",
            "Training literature.yml: [####################] 100%\n",
            "Training money.yml: [####################] 100%\n",
            "Training movies.yml: [####################] 100%\n",
            "Training politics.yml: [####################] 100%\n",
            "Training psychology.yml: [####################] 100%\n",
            "Training science.yml: [####################] 100%\n",
            "Training sports.yml: [####################] 100%\n",
            "Training trivia.yml: [####################] 100%\n"
          ],
          "name": "stdout"
        }
      ]
    },
    {
      "cell_type": "markdown",
      "metadata": {
        "id": "8Rf8wAsWUi3Y"
      },
      "source": [
        "You can also train a chatterbot on your custom instances. You can see how to do this below:"
      ]
    },
    {
      "cell_type": "code",
      "metadata": {
        "colab": {
          "base_uri": "https://localhost:8080/"
        },
        "id": "Oc1Di50nUjnL",
        "outputId": "207ab698-ff61-4b01-a2f1-7d52aabcb696"
      },
      "source": [
        "greet_conversation = [\r\n",
        "    \"Hello\",\r\n",
        "    \"Hi there!\",\r\n",
        "    \"How are you doing?\",\r\n",
        "    \"I'm doing great.\",\r\n",
        "    \"That is good to hear\",\r\n",
        "    \"Thank you.\",\r\n",
        "    \"You're welcome.\"\r\n",
        "]\r\n",
        " \r\n",
        "open_timings_conversation = [\r\n",
        "    \"What time does the Bank open?\",\r\n",
        "    \"The Bank opens at 9AM\",\r\n",
        "]\r\n",
        " \r\n",
        "close_timings_conversation = [\r\n",
        "    \"What time does the Bank close?\",\r\n",
        "    \"The Bank closes at 5PM\",\r\n",
        "]\r\n",
        "\r\n",
        "#Initializing Trainer Object\r\n",
        "trainer = ListTrainer(BankBot)\r\n",
        "\r\n",
        "#Training BankBot\r\n",
        "trainer.train(greet_conversation)\r\n",
        "trainer.train(open_timings_conversation)\r\n",
        "trainer.train(close_timings_conversation)"
      ],
      "execution_count": 8,
      "outputs": [
        {
          "output_type": "stream",
          "text": [
            "List Trainer: [####################] 100%\n",
            "List Trainer: [####################] 100%\n",
            "List Trainer: [####################] 100%\n"
          ],
          "name": "stdout"
        }
      ]
    },
    {
      "cell_type": "markdown",
      "metadata": {
        "id": "tJgWl-tNU-cg"
      },
      "source": [
        "###Run The ChatBot"
      ]
    },
    {
      "cell_type": "code",
      "metadata": {
        "colab": {
          "base_uri": "https://localhost:8080/"
        },
        "id": "wNmV4w2kVAMK",
        "outputId": "42ea4ade-6aa4-4116-b3d5-312e96adf824"
      },
      "source": [
        "while (True):\r\n",
        "    user_input = input()\r\n",
        "    if (user_input == 'quit'):\r\n",
        "        break\r\n",
        "    response = BankBot.get_response(user_input)\r\n",
        "    print (response)"
      ],
      "execution_count": null,
      "outputs": [
        {
          "output_type": "stream",
          "text": [
            "Hello\n",
            "Hi\n",
            "How are you doing?\n",
            "I am doing well.\n",
            "OK\n",
            "I can't read.\n",
            "That is good to hear\n",
            "Yes it is.\n",
            "you are welcome\n",
            "Artificial Intelligence is the branch of engineering and science devoted to constructing machines that think.\n"
          ],
          "name": "stdout"
        }
      ]
    }
  ]
}