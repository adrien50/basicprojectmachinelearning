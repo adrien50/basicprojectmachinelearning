{
  "nbformat": 4,
  "nbformat_minor": 0,
  "metadata": {
    "colab": {
      "name": "Extreme Gradient Boosting in python.ipynb",
      "provenance": [],
      "authorship_tag": "ABX9TyNp92QhPoAfWoOhqd2LeQca",
      "include_colab_link": true
    },
    "kernelspec": {
      "name": "python3",
      "display_name": "Python 3"
    }
  },
  "cells": [
    {
      "cell_type": "markdown",
      "metadata": {
        "id": "view-in-github",
        "colab_type": "text"
      },
      "source": [
        "<a href=\"https://colab.research.google.com/github/adrien50/basicprojectmachinelearning/blob/main/Extreme_Gradient_Boosting_in_python.ipynb\" target=\"_parent\"><img src=\"https://colab.research.google.com/assets/colab-badge.svg\" alt=\"Open In Colab\"/></a>"
      ]
    },
    {
      "cell_type": "markdown",
      "metadata": {
        "id": "A_dHJiN0cKxQ"
      },
      "source": [
        "Extreme Gradient Boosting Algorithm\r\n",
        "\r\n",
        "Gradient boosting refers to a class of ensemble machine learning algorithms that can be used for classification or regression predictive modeling problems.\r\n",
        "\r\n",
        "Ensembles are constructed from decision tree models. Trees are added one at a time to the ensemble and fit to correct the prediction errors made by prior models. This is a type of ensemble machine learning model referred to as boosting.\r\n",
        "\r\n",
        "Models are fit using any arbitrary differentiable loss function and gradient descent optimization algorithm. This gives the technique its name, “gradient boosting,” as the loss gradient is minimized as the model is fit, much like a neural network.\r\n",
        "\r\n",
        "For more on gradient boosting, see the tutorial:\r\n",
        "\r\n",
        "A Gentle Introduction to the Gradient Boosting Algorithm for Machine Learning\r\n",
        "Extreme Gradient Boosting, or XGBoost for short is an efficient open-source implementation of the gradient boosting algorithm. As such, XGBoost is an algorithm, an open-source project, and a Python library."
      ]
    },
    {
      "cell_type": "markdown",
      "metadata": {
        "id": "Q7IuBliqceb1"
      },
      "source": [
        "XGBoost Scikit-Learn API\r\n",
        "\r\n",
        "XGBoost can be installed as a standalone library and an XGBoost model can be developed using the scikit-learn API.\r\n",
        "\r\n",
        "The first step is to install the XGBoost library if it is not already installed. This can be achieved using the pip python package manager on most platforms; for example:"
      ]
    },
    {
      "cell_type": "code",
      "metadata": {
        "colab": {
          "base_uri": "https://localhost:8080/"
        },
        "id": "XKgz53wiZ5CW",
        "outputId": "8315b97e-c315-4297-9c08-f445b3e2b1a0"
      },
      "source": [
        "!pip install xgboost"
      ],
      "execution_count": 37,
      "outputs": [
        {
          "output_type": "stream",
          "text": [
            "Requirement already satisfied: xgboost in /usr/local/lib/python3.6/dist-packages (0.90)\n",
            "Requirement already satisfied: numpy in /usr/local/lib/python3.6/dist-packages (from xgboost) (1.19.5)\n",
            "Requirement already satisfied: scipy in /usr/local/lib/python3.6/dist-packages (from xgboost) (1.4.1)\n"
          ],
          "name": "stdout"
        }
      ]
    },
    {
      "cell_type": "markdown",
      "metadata": {
        "id": "YTP2gW16Ne43"
      },
      "source": [
        "XGBoost Ensemble for Classification\r\n",
        "\r\n",
        "In this section, we will look at using XGBoost for a classification problem.\r\n",
        "\r\n",
        "First, we can use the make_classification() function to create a synthetic binary classification problem with 1,000 examples and 20 input features.\r\n",
        "\r\n",
        "The complete example is listed below."
      ]
    },
    {
      "cell_type": "code",
      "metadata": {
        "colab": {
          "base_uri": "https://localhost:8080/"
        },
        "id": "4C-KnpSCNgIT",
        "outputId": "f05c45c3-8abf-481c-912d-4ec9453648dd"
      },
      "source": [
        "# test classification dataset\r\n",
        "from sklearn.datasets import make_classification\r\n",
        "# define dataset\r\n",
        "X, y = make_classification(n_samples=1000, n_features=20, n_informative=15, n_redundant=5, random_state=7)\r\n",
        "# summarize the dataset\r\n",
        "print(X.shape, y.shape)"
      ],
      "execution_count": 38,
      "outputs": [
        {
          "output_type": "stream",
          "text": [
            "(1000, 20) (1000,)\n"
          ],
          "name": "stdout"
        }
      ]
    },
    {
      "cell_type": "markdown",
      "metadata": {
        "id": "h8TKASP0d-Th"
      },
      "source": [
        "Next, we can evaluate an XGBoost model on this dataset.\r\n",
        "\r\n",
        "We will evaluate the model using repeated stratified k-fold cross-validation, with three repeats and 10 folds. We will report the mean and standard deviation of the accuracy of the model across all repeats and folds."
      ]
    },
    {
      "cell_type": "code",
      "metadata": {
        "colab": {
          "base_uri": "https://localhost:8080/"
        },
        "id": "Eh0LwO6SOryA",
        "outputId": "c00e67bb-2d47-409d-f4f9-3a7b69ca816c"
      },
      "source": [
        "# evaluate xgboost algorithm for classification\r\n",
        "from numpy import mean\r\n",
        "from numpy import std\r\n",
        "from sklearn.datasets import make_classification\r\n",
        "from sklearn.model_selection import cross_val_score\r\n",
        "from sklearn.model_selection import RepeatedStratifiedKFold\r\n",
        "from xgboost import XGBClassifier\r\n",
        "# define dataset\r\n",
        "X, y = make_classification(n_samples=1000, n_features=20, n_informative=15, n_redundant=5, random_state=7)\r\n",
        "# define the model\r\n",
        "model = XGBClassifier()\r\n",
        "# evaluate the model\r\n",
        "cv = RepeatedStratifiedKFold(n_splits=10, n_repeats=3, random_state=1)\r\n",
        "n_scores = cross_val_score(model, X, y, scoring='accuracy', cv=cv, n_jobs=-1)\r\n",
        "# report performance\r\n",
        "print('Accuracy: %.3f (%.3f)' % (mean(n_scores), std(n_scores)))"
      ],
      "execution_count": 39,
      "outputs": [
        {
          "output_type": "stream",
          "text": [
            "Accuracy: 0.899 (0.029)\n"
          ],
          "name": "stdout"
        }
      ]
    },
    {
      "cell_type": "markdown",
      "metadata": {
        "id": "gmn-yOyweXQa"
      },
      "source": [
        "In this case, we can see the XGBoost ensemble with default hyperparameters achieves a classification accuracy of about 92.5 percent on this test dataset."
      ]
    },
    {
      "cell_type": "markdown",
      "metadata": {
        "id": "x-Lh6AMuOy_H"
      },
      "source": [
        "We can also use the XGBoost model as a final model and make predictions for classification.\r\n",
        "\r\n",
        "First, the XGBoost ensemble is fit on all available data, then the predict() function can be called to make predictions on new data. Importantly, this function expects data to always be provided as a NumPy array as a matrix with one row for each input sample.\r\n",
        "\r\n",
        "The example below demonstrates this on our binary classification dataset."
      ]
    },
    {
      "cell_type": "code",
      "metadata": {
        "colab": {
          "base_uri": "https://localhost:8080/"
        },
        "id": "zFtJdLLcO3bP",
        "outputId": "aa16b860-9cd3-4880-fc34-37483fd36217"
      },
      "source": [
        "# make predictions using xgboost for classification\r\n",
        "from numpy import asarray\r\n",
        "from sklearn.datasets import make_classification\r\n",
        "from xgboost import XGBClassifier\r\n",
        "# define dataset\r\n",
        "X, y = make_classification(n_samples=1000, n_features=20, n_informative=15, n_redundant=5, random_state=7)\r\n",
        "# define the model\r\n",
        "model = XGBClassifier()\r\n",
        "# fit the model on the whole dataset\r\n",
        "model.fit(X, y)\r\n",
        "# make a single prediction\r\n",
        "row = [0.2929949,-4.21223056,-1.288332,-2.17849815,-0.64527665,2.58097719,0.28422388,-7.1827928,-1.91211104,2.73729512,0.81395695,3.96973717,-2.66939799,3.34692332,4.19791821,0.99990998,-0.30201875,-4.43170633,-2.82646737,0.44916808]\r\n",
        "row = asarray([row])\r\n",
        "yhat = model.predict(row)\r\n",
        "print('Predicted Class: %d' % yhat[0])"
      ],
      "execution_count": 40,
      "outputs": [
        {
          "output_type": "stream",
          "text": [
            "Predicted Class: 1\n"
          ],
          "name": "stdout"
        }
      ]
    },
    {
      "cell_type": "markdown",
      "metadata": {
        "id": "bOHp8FLKPNnx"
      },
      "source": [
        "Running the example fits the XGBoost ensemble model on the entire dataset and is then used to make a prediction on a new row of data, as we might when using the model in an application.\r\n"
      ]
    },
    {
      "cell_type": "markdown",
      "metadata": {
        "id": "kkI8x3YVRxuy"
      },
      "source": [
        "XGBoost Ensemble for Regression\r\n",
        "\r\n",
        "In this section, we will look at using XGBoost for a regression problem.\r\n",
        "\r\n",
        "First, we can use the make_regression() function to create a synthetic regression problem with 1,000 examples and 20 input features.\r\n",
        "\r\n",
        "The complete example is listed below."
      ]
    },
    {
      "cell_type": "code",
      "metadata": {
        "colab": {
          "base_uri": "https://localhost:8080/"
        },
        "id": "o6ey3eUYRzka",
        "outputId": "3df71176-302f-4a6a-f84a-153ba72ea715"
      },
      "source": [
        "# test regression dataset\r\n",
        "from sklearn.datasets import make_regression\r\n",
        "# define dataset\r\n",
        "X, y = make_regression(n_samples=1000, n_features=20, n_informative=15, noise=0.1, random_state=7)\r\n",
        "# summarize the dataset\r\n",
        "print(X.shape, y.shape)"
      ],
      "execution_count": 41,
      "outputs": [
        {
          "output_type": "stream",
          "text": [
            "(1000, 20) (1000,)\n"
          ],
          "name": "stdout"
        }
      ]
    },
    {
      "cell_type": "markdown",
      "metadata": {
        "id": "_JWyozY2f5ek"
      },
      "source": [
        "As we did with the last section, we will evaluate the model using repeated k-fold cross-validation, with three repeats and 10 folds. We will report the mean absolute error (MAE) of the model across all repeats and folds. The scikit-learn library makes the MAE negative so that it is maximized instead of minimized. This means that larger negative MAE are better and a perfect model has a MAE of 0."
      ]
    },
    {
      "cell_type": "code",
      "metadata": {
        "colab": {
          "base_uri": "https://localhost:8080/"
        },
        "id": "LlrLePC2SMCI",
        "outputId": "a4dc8858-9247-47f3-e7db-df56a3630a41"
      },
      "source": [
        "# evaluate xgboost ensemble for regression\r\n",
        "from numpy import mean\r\n",
        "from numpy import std\r\n",
        "from sklearn.datasets import make_regression\r\n",
        "from sklearn.model_selection import cross_val_score\r\n",
        "from sklearn.model_selection import RepeatedKFold\r\n",
        "from xgboost import XGBRegressor\r\n",
        "# define dataset\r\n",
        "X, y = make_regression(n_samples=1000, n_features=20, n_informative=15, noise=0.1, random_state=7)\r\n",
        "# define the model\r\n",
        "model = XGBRegressor()\r\n",
        "# evaluate the model\r\n",
        "cv = RepeatedKFold(n_splits=10, n_repeats=3, random_state=1)\r\n",
        "n_scores = cross_val_score(model, X, y, scoring='neg_mean_absolute_error', cv=cv, n_jobs=-1, error_score='raise')\r\n",
        "# report performance\r\n",
        "print('MAE: %.3f (%.3f)' % (mean(n_scores), std(n_scores)))"
      ],
      "execution_count": 42,
      "outputs": [
        {
          "output_type": "stream",
          "text": [
            "MAE: -62.762 (3.219)\n"
          ],
          "name": "stdout"
        }
      ]
    },
    {
      "cell_type": "markdown",
      "metadata": {
        "id": "2qfSgvxRSQfk"
      },
      "source": [
        "We can also use the XGBoost model as a final model and make predictions for regression.\r\n",
        "\r\n",
        "First, the XGBoost ensemble is fit on all available data, then the predict() function can be called to make predictions on new data. As with classification, the single row of data must be represented as a two-dimensional matrix in NumPy array format.\r\n",
        "\r\n",
        "The example below demonstrates this on our regression dataset."
      ]
    },
    {
      "cell_type": "code",
      "metadata": {
        "colab": {
          "base_uri": "https://localhost:8080/"
        },
        "id": "Xu0dsw79SS7p",
        "outputId": "e7b1e84e-c4d4-4e56-f634-6e100ecc617b"
      },
      "source": [
        "# gradient xgboost for making predictions for regression\r\n",
        "from numpy import asarray\r\n",
        "from sklearn.datasets import make_regression\r\n",
        "from xgboost import XGBRegressor\r\n",
        "# define dataset\r\n",
        "X, y = make_regression(n_samples=1000, n_features=20, n_informative=15, noise=0.1, random_state=7)\r\n",
        "# define the model\r\n",
        "model = XGBRegressor()\r\n",
        "# fit the model on the whole dataset\r\n",
        "model.fit(X, y)\r\n",
        "# make a single prediction\r\n",
        "row = [0.20543991,-0.97049844,-0.81403429,-0.23842689,-0.60704084,-0.48541492,0.53113006,2.01834338,-0.90745243,-1.85859731,-1.02334791,-0.6877744,0.60984819,-0.70630121,-1.29161497,1.32385441,1.42150747,1.26567231,2.56569098,-0.11154792]\r\n",
        "row = asarray([row])\r\n",
        "yhat = model.predict(row)\r\n",
        "print('Prediction: %d' % yhat[0])"
      ],
      "execution_count": 43,
      "outputs": [
        {
          "output_type": "stream",
          "text": [
            "[16:38:41] WARNING: /workspace/src/objective/regression_obj.cu:152: reg:linear is now deprecated in favor of reg:squarederror.\n",
            "Prediction: 28\n"
          ],
          "name": "stdout"
        }
      ]
    },
    {
      "cell_type": "markdown",
      "metadata": {
        "id": "tLm9-Vlch5Qm"
      },
      "source": [
        "XGBoost Hyperparameters\r\n",
        "\r\n",
        "In this section, we will take a closer look at some of the hyperparameters you should consider tuning for the Gradient Boosting ensemble and their effect on model performance.\r\n",
        "\r\n",
        "Explore Number of Trees\r\n",
        "\r\n",
        "An important hyperparameter for the XGBoost ensemble algorithm is the number of decision trees used in the ensemble.\r\n",
        "\r\n",
        "Recall that decision trees are added to the model sequentially in an effort to correct and improve upon the predictions made by prior trees. As such, more trees is often better.\r\n",
        "\r\n",
        "The number of trees can be set via the “n_estimators” argument and defaults to 100.\r\n",
        "\r\n",
        "The example below explores the effect of the number of trees with values between 10 to 5,000.\r\n"
      ]
    },
    {
      "cell_type": "code",
      "metadata": {
        "colab": {
          "base_uri": "https://localhost:8080/",
          "height": 374
        },
        "id": "ZMZ9toX1h7Pe",
        "outputId": "eec9002c-85ed-4b35-f86d-379500f1eb18"
      },
      "source": [
        "# explore xgboost number of trees effect on performance\r\n",
        "from numpy import mean\r\n",
        "from numpy import std\r\n",
        "from sklearn.datasets import make_classification\r\n",
        "from sklearn.model_selection import cross_val_score\r\n",
        "from sklearn.model_selection import RepeatedStratifiedKFold\r\n",
        "from xgboost import XGBClassifier\r\n",
        "from matplotlib import pyplot\r\n",
        "\r\n",
        "# get the dataset\r\n",
        "def get_dataset():\r\n",
        "\tX, y = make_classification(n_samples=1000, n_features=20, n_informative=15, n_redundant=5, random_state=7)\r\n",
        "\treturn X, y\r\n",
        "\r\n",
        "# get a list of models to evaluate\r\n",
        "def get_models():\r\n",
        "\tmodels = dict()\r\n",
        "\ttrees = [10, 50, 100, 500, 1000, 5000]\r\n",
        "\tfor n in trees:\r\n",
        "\t\tmodels[str(n)] = XGBClassifier(n_estimators=n)\r\n",
        "\treturn models\r\n",
        "\r\n",
        "# evaluate a give model using cross-validation\r\n",
        "def evaluate_model(model):\r\n",
        "\tcv = RepeatedStratifiedKFold(n_splits=10, n_repeats=3, random_state=1)\r\n",
        "\tscores = cross_val_score(model, X, y, scoring='accuracy', cv=cv, n_jobs=-1)\r\n",
        "\treturn scores\r\n",
        "\r\n",
        "# define dataset\r\n",
        "X, y = get_dataset()\r\n",
        "# get the models to evaluate\r\n",
        "models = get_models()\r\n",
        "# evaluate the models and store results\r\n",
        "results, names = list(), list()\r\n",
        "for name, model in models.items():\r\n",
        "\tscores = evaluate_model(model)\r\n",
        "\tresults.append(scores)\r\n",
        "\tnames.append(name)\r\n",
        "\tprint('>%s %.3f (%.3f)' % (name, mean(scores), std(scores)))\r\n",
        "# plot model performance for comparison\r\n",
        "pyplot.boxplot(results, labels=names, showmeans=True)\r\n",
        "pyplot.show()"
      ],
      "execution_count": 44,
      "outputs": [
        {
          "output_type": "stream",
          "text": [
            ">10 0.829 (0.037)\n",
            ">50 0.871 (0.027)\n",
            ">100 0.899 (0.029)\n",
            ">500 0.927 (0.025)\n",
            ">1000 0.927 (0.025)\n",
            ">5000 0.927 (0.026)\n"
          ],
          "name": "stdout"
        },
        {
          "output_type": "display_data",
          "data": {
            "image/png": "[encoded data removed]",
            "text/plain": [
              "<Figure size 432x288 with 1 Axes>"
            ]
          },
          "metadata": {
            "tags": [],
            "needs_background": "light"
          }
        }
      ]
    },
    {
      "cell_type": "markdown",
      "metadata": {
        "id": "xHQ0GnaHjAqT"
      },
      "source": [
        "Explore Tree Depth\r\n",
        "\r\n",
        "Varying the depth of each tree added to the ensemble is another important hyperparameter for gradient boosting.\r\n",
        "\r\n",
        "The tree depth controls how specialized each tree is to the training dataset: how general or overfit it might be. Trees are preferred that are not too shallow and general (like AdaBoost) and not too deep and specialized (like bootstrap aggregation).\r\n",
        "\r\n",
        "Gradient boosting generally performs well with trees that have a modest depth, finding a balance between skill and generality.\r\n",
        "\r\n",
        "Tree depth is controlled via the “max_depth” argument and defaults to 6.\r\n",
        "\r\n",
        "The example below explores tree depths between 1 and 10 and the effect on model performance."
      ]
    },
    {
      "cell_type": "markdown",
      "metadata": {
        "id": "zTLZ_SB5ilCb"
      },
      "source": [
        "Note: Your results may vary given the stochastic nature of the algorithm or evaluation procedure, or differences in numerical precision. Consider running the example a few times and compare the average outcome.\r\n",
        "\r\n",
        "In this case, we can see that that performance improves on this dataset until about 500 trees, after which performance appears to level off or decrease."
      ]
    },
    {
      "cell_type": "code",
      "metadata": {
        "colab": {
          "base_uri": "https://localhost:8080/",
          "height": 438
        },
        "id": "X8lnJ-Rbilqb",
        "outputId": "03ba59bb-43d3-4baa-d7cf-cae4ec816a26"
      },
      "source": [
        "# explore xgboost tree depth effect on performance\r\n",
        "from numpy import mean\r\n",
        "from numpy import std\r\n",
        "from sklearn.datasets import make_classification\r\n",
        "from sklearn.model_selection import cross_val_score\r\n",
        "from sklearn.model_selection import RepeatedStratifiedKFold\r\n",
        "from xgboost import XGBClassifier\r\n",
        "from matplotlib import pyplot\r\n",
        "\r\n",
        "# get the dataset\r\n",
        "def get_dataset():\r\n",
        "\tX, y = make_classification(n_samples=1000, n_features=20, n_informative=15, n_redundant=5, random_state=7)\r\n",
        "\treturn X, y\r\n",
        "\r\n",
        "# get a list of models to evaluate\r\n",
        "def get_models():\r\n",
        "\tmodels = dict()\r\n",
        "\tfor i in range(1,11):\r\n",
        "\t\tmodels[str(i)] = XGBClassifier(max_depth=i)\r\n",
        "\treturn models\r\n",
        "\r\n",
        "# evaluate a give model using cross-validation\r\n",
        "def evaluate_model(model):\r\n",
        "\tcv = RepeatedStratifiedKFold(n_splits=10, n_repeats=3, random_state=1)\r\n",
        "\tscores = cross_val_score(model, X, y, scoring='accuracy', cv=cv, n_jobs=-1)\r\n",
        "\treturn scores\r\n",
        "\r\n",
        "# define dataset\r\n",
        "X, y = get_dataset()\r\n",
        "# get the models to evaluate\r\n",
        "models = get_models()\r\n",
        "# evaluate the models and store results\r\n",
        "results, names = list(), list()\r\n",
        "for name, model in models.items():\r\n",
        "\tscores = evaluate_model(model)\r\n",
        "\tresults.append(scores)\r\n",
        "\tnames.append(name)\r\n",
        "\tprint('>%s %.3f (%.3f)' % (name, mean(scores), std(scores)))\r\n",
        "# plot model performance for comparison\r\n",
        "pyplot.boxplot(results, labels=names, showmeans=True)\r\n",
        "pyplot.show()"
      ],
      "execution_count": 45,
      "outputs": [
        {
          "output_type": "stream",
          "text": [
            ">1 0.833 (0.029)\n",
            ">2 0.874 (0.031)\n",
            ">3 0.899 (0.029)\n",
            ">4 0.916 (0.030)\n",
            ">5 0.922 (0.030)\n",
            ">6 0.923 (0.030)\n",
            ">7 0.920 (0.026)\n",
            ">8 0.916 (0.032)\n",
            ">9 0.919 (0.028)\n",
            ">10 0.918 (0.029)\n"
          ],
          "name": "stdout"
        },
        {
          "output_type": "display_data",
          "data": {
            "image/png": "[encoded data removed]",
            "text/plain": [
              "<Figure size 432x288 with 1 Axes>"
            ]
          },
          "metadata": {
            "tags": [],
            "needs_background": "light"
          }
        }
      ]
    },
    {
      "cell_type": "markdown",
      "metadata": {
        "id": "fqKNJRSLkKUw"
      },
      "source": [
        "In this case, we can see that performance improves with tree depth, perhaps peeking around a depth of 3 to 8, after which the deeper, more specialized trees result in worse performance.\r\n",
        "We can see the general trend of increasing model performance with the tree depth to a point, after which performance begins to sit flat or degrade with the over-specialized trees."
      ]
    },
    {
      "cell_type": "markdown",
      "metadata": {
        "id": "3rEruuLmkYjP"
      },
      "source": [
        "Explore Learning Rate\r\n",
        "\r\n",
        "Learning rate controls the amount of contribution that each model has on the ensemble prediction.\r\n",
        "\r\n",
        "Smaller rates may require more decision trees in the ensemble.\r\n",
        "\r\n",
        "The learning rate can be controlled via the “eta” argument and defaults to 0.3.\r\n",
        "\r\n",
        "The example below explores the learning rate and compares the effect of values between 0.0001 and 1.0."
      ]
    },
    {
      "cell_type": "code",
      "metadata": {
        "colab": {
          "base_uri": "https://localhost:8080/",
          "height": 353
        },
        "id": "CQ9He7dzkaQC",
        "outputId": "5621bbda-fc34-40b1-f9fb-dc122890d69f"
      },
      "source": [
        "# explore xgboost learning rate effect on performance\r\n",
        "from numpy import mean\r\n",
        "from numpy import std\r\n",
        "from sklearn.datasets import make_classification\r\n",
        "from sklearn.model_selection import cross_val_score\r\n",
        "from sklearn.model_selection import RepeatedStratifiedKFold\r\n",
        "from xgboost import XGBClassifier\r\n",
        "from matplotlib import pyplot\r\n",
        "\r\n",
        "# get the dataset\r\n",
        "def get_dataset():\r\n",
        "\tX, y = make_classification(n_samples=1000, n_features=20, n_informative=15, n_redundant=5, random_state=7)\r\n",
        "\treturn X, y\r\n",
        "\r\n",
        "# get a list of models to evaluate\r\n",
        "def get_models():\r\n",
        "\tmodels = dict()\r\n",
        "\trates = [0.0001, 0.001, 0.01, 0.1, 1.0]\r\n",
        "\tfor r in rates:\r\n",
        "\t\tkey = '%.4f' % r\r\n",
        "\t\tmodels[key] = XGBClassifier(eta=r)\r\n",
        "\treturn models\r\n",
        "\r\n",
        "# evaluate a give model using cross-validation\r\n",
        "def evaluate_model(model):\r\n",
        "\tcv = RepeatedStratifiedKFold(n_splits=10, n_repeats=3, random_state=1)\r\n",
        "\tscores = cross_val_score(model, X, y, scoring='accuracy', cv=cv, n_jobs=-1)\r\n",
        "\treturn scores\r\n",
        "\r\n",
        "# define dataset\r\n",
        "X, y = get_dataset()\r\n",
        "# get the models to evaluate\r\n",
        "models = get_models()\r\n",
        "# evaluate the models and store results\r\n",
        "results, names = list(), list()\r\n",
        "for name, model in models.items():\r\n",
        "\tscores = evaluate_model(model)\r\n",
        "\tresults.append(scores)\r\n",
        "\tnames.append(name)\r\n",
        "\tprint('>%s %.3f (%.3f)' % (name, mean(scores), std(scores)))\r\n",
        "# plot model performance for comparison\r\n",
        "pyplot.boxplot(results, labels=names, showmeans=True)\r\n",
        "pyplot.show()"
      ],
      "execution_count": 46,
      "outputs": [
        {
          "output_type": "stream",
          "text": [
            ">0.0001 0.899 (0.029)\n",
            ">0.0010 0.899 (0.029)\n",
            ">0.0100 0.899 (0.029)\n",
            ">0.1000 0.899 (0.029)\n",
            ">1.0000 0.899 (0.029)\n"
          ],
          "name": "stdout"
        },
        {
          "output_type": "display_data",
          "data": {
            "image/png": "[encoded data removed]",
            "text/plain": [
              "<Figure size 432x288 with 1 Axes>"
            ]
          },
          "metadata": {
            "tags": [],
            "needs_background": "light"
          }
        }
      ]
    },
    {
      "cell_type": "markdown",
      "metadata": {
        "id": "B8EEK_DklZPz"
      },
      "source": [
        "Running the example first reports the mean accuracy for each configured learning rate.\r\n",
        "\r\n",
        "Note: Your results may vary given the stochastic nature of the algorithm or evaluation procedure, or differences in numerical precision. Consider running the example a few times and compare the average outcome.\r\n",
        "\r\n",
        "In this case, we can see that a larger learning rate results in better performance on this dataset. We would expect that adding more trees to the ensemble for the smaller learning rates would further lift performance.\r\n",
        "\r\n",
        "This highlights the trade-off between the number of trees (speed of training) and learning rate, e.g. we can fit a model faster by using fewer trees and a larger learning rate.\r\n",
        "\r\n",
        "We can see the general trend of increasing model performance with the increase in learning rate of 0.1, after which performance degrades."
      ]
    },
    {
      "cell_type": "markdown",
      "metadata": {
        "id": "1EYSmPg-mBn3"
      },
      "source": [
        "Explore Number of Samples\r\n",
        "\r\n",
        "The number of samples used to fit each tree can be varied. This means that each tree is fit on a randomly selected subset of the training dataset.\r\n",
        "\r\n",
        "Using fewer samples introduces more variance for each tree, although it can improve the overall performance of the model.\r\n",
        "\r\n",
        "The number of samples used to fit each tree is specified by the “subsample” argument and can be set to a fraction of the training dataset size. By default, it is set to 1.0 to use the entire training dataset.\r\n",
        "\r\n",
        "The example below demonstrates the effect of the sample size on model performance with ratios varying from 10 percent to 100 percent in 10 percent increments."
      ]
    },
    {
      "cell_type": "code",
      "metadata": {
        "colab": {
          "base_uri": "https://localhost:8080/",
          "height": 438
        },
        "id": "QMdZqxpclcet",
        "outputId": "e56d8a4c-5860-4e5f-bcfd-636930f1a3d5"
      },
      "source": [
        "# explore xgboost subsample ratio effect on performance\r\n",
        "from numpy import arange\r\n",
        "from numpy import mean\r\n",
        "from numpy import std\r\n",
        "from sklearn.datasets import make_classification\r\n",
        "from sklearn.model_selection import cross_val_score\r\n",
        "from sklearn.model_selection import RepeatedStratifiedKFold\r\n",
        "from xgboost import XGBClassifier\r\n",
        "from matplotlib import pyplot\r\n",
        "\r\n",
        "# get the dataset\r\n",
        "def get_dataset():\r\n",
        "\tX, y = make_classification(n_samples=1000, n_features=20, n_informative=15, n_redundant=5, random_state=7)\r\n",
        "\treturn X, y\r\n",
        "\r\n",
        "# get a list of models to evaluate\r\n",
        "def get_models():\r\n",
        "\tmodels = dict()\r\n",
        "\tfor i in arange(0.1, 1.1, 0.1):\r\n",
        "\t\tkey = '%.1f' % i\r\n",
        "\t\tmodels[key] = XGBClassifier(subsample=i)\r\n",
        "\treturn models\r\n",
        "\r\n",
        "# evaluate a give model using cross-validation\r\n",
        "def evaluate_model(model):\r\n",
        "\tcv = RepeatedStratifiedKFold(n_splits=10, n_repeats=3, random_state=1)\r\n",
        "\tscores = cross_val_score(model, X, y, scoring='accuracy', cv=cv, n_jobs=-1)\r\n",
        "\treturn scores\r\n",
        "\r\n",
        "# define dataset\r\n",
        "X, y = get_dataset()\r\n",
        "# get the models to evaluate\r\n",
        "models = get_models()\r\n",
        "# evaluate the models and store results\r\n",
        "results, names = list(), list()\r\n",
        "for name, model in models.items():\r\n",
        "\tscores = evaluate_model(model)\r\n",
        "\tresults.append(scores)\r\n",
        "\tnames.append(name)\r\n",
        "\tprint('>%s %.3f (%.3f)' % (name, mean(scores), std(scores)))\r\n",
        "# plot model performance for comparison\r\n",
        "pyplot.boxplot(results, labels=names, showmeans=True)\r\n",
        "pyplot.show()"
      ],
      "execution_count": 47,
      "outputs": [
        {
          "output_type": "stream",
          "text": [
            ">0.1 0.882 (0.034)\n",
            ">0.2 0.903 (0.028)\n",
            ">0.3 0.909 (0.030)\n",
            ">0.4 0.913 (0.031)\n",
            ">0.5 0.914 (0.026)\n",
            ">0.6 0.908 (0.029)\n",
            ">0.7 0.910 (0.025)\n",
            ">0.8 0.911 (0.029)\n",
            ">0.9 0.906 (0.028)\n",
            ">1.0 0.899 (0.029)\n"
          ],
          "name": "stdout"
        },
        {
          "output_type": "display_data",
          "data": {
            "image/png": "[encoded data removed]",
            "text/plain": [
              "<Figure size 432x288 with 1 Axes>"
            ]
          },
          "metadata": {
            "tags": [],
            "needs_background": "light"
          }
        }
      ]
    },
    {
      "cell_type": "markdown",
      "metadata": {
        "id": "BDPh9-5Gmjss"
      },
      "source": [
        "In this case, we can see that mean performance is probably best for a sample size that covers most of the dataset, such as 80 percent or higher.\r\n",
        "We can see the general trend of increasing model performance, perhaps peaking around 80 percent and staying somewhat level."
      ]
    },
    {
      "cell_type": "markdown",
      "metadata": {
        "id": "1CZZDSW4nBqA"
      },
      "source": [
        "Explore Number of Features\r\n",
        "\r\n",
        "The number of features used to fit each decision tree can be varied.\r\n",
        "\r\n",
        "Like changing the number of samples, changing the number of features introduces additional variance into the model, which may improve performance, although it might require an increase in the number of trees.\r\n",
        "\r\n",
        "The number of features used by each tree is taken as a random sample and is specified by the “colsample_bytree” argument and defaults to all features in the training dataset, e.g. 100 percent or a value of 1.0. You can also sample columns for each split, and this is controlled by the “colsample_bylevel” argument, but we will not look at this hyperparameter here.\r\n",
        "\r\n",
        "The example below explores the effect of the number of features on model performance with ratios varying from 10 percent to 100 percent in 10 percent increments."
      ]
    },
    {
      "cell_type": "code",
      "metadata": {
        "colab": {
          "base_uri": "https://localhost:8080/",
          "height": 438
        },
        "id": "HrshfgZ-mosA",
        "outputId": "e921b458-098d-4e15-d486-6f0c49706bcb"
      },
      "source": [
        "# explore xgboost column ratio per tree effect on performance\r\n",
        "from numpy import arange\r\n",
        "from numpy import mean\r\n",
        "from numpy import std\r\n",
        "from sklearn.datasets import make_classification\r\n",
        "from sklearn.model_selection import cross_val_score\r\n",
        "from sklearn.model_selection import RepeatedStratifiedKFold\r\n",
        "from xgboost import XGBClassifier\r\n",
        "from matplotlib import pyplot\r\n",
        "\r\n",
        "# get the dataset\r\n",
        "def get_dataset():\r\n",
        "\tX, y = make_classification(n_samples=1000, n_features=20, n_informative=15, n_redundant=5, random_state=7)\r\n",
        "\treturn X, y\r\n",
        "\r\n",
        "# get a list of models to evaluate\r\n",
        "def get_models():\r\n",
        "\tmodels = dict()\r\n",
        "\tfor i in arange(0.1, 1.1, 0.1):\r\n",
        "\t\tkey = '%.1f' % i\r\n",
        "\t\tmodels[key] = XGBClassifier(colsample_bytree=i)\r\n",
        "\treturn models\r\n",
        "\r\n",
        "# evaluate a give model using cross-validation\r\n",
        "def evaluate_model(model):\r\n",
        "\tcv = RepeatedStratifiedKFold(n_splits=10, n_repeats=3, random_state=1)\r\n",
        "\tscores = cross_val_score(model, X, y, scoring='accuracy', cv=cv, n_jobs=-1)\r\n",
        "\treturn scores\r\n",
        "\r\n",
        "# define dataset\r\n",
        "X, y = get_dataset()\r\n",
        "# get the models to evaluate\r\n",
        "models = get_models()\r\n",
        "# evaluate the models and store results\r\n",
        "results, names = list(), list()\r\n",
        "for name, model in models.items():\r\n",
        "\tscores = evaluate_model(model)\r\n",
        "\tresults.append(scores)\r\n",
        "\tnames.append(name)\r\n",
        "\tprint('>%s %.3f (%.3f)' % (name, mean(scores), std(scores)))\r\n",
        "# plot model performance for comparison\r\n",
        "pyplot.boxplot(results, labels=names, showmeans=True)\r\n",
        "pyplot.show()"
      ],
      "execution_count": 48,
      "outputs": [
        {
          "output_type": "stream",
          "text": [
            ">0.1 0.845 (0.038)\n",
            ">0.2 0.883 (0.031)\n",
            ">0.3 0.893 (0.032)\n",
            ">0.4 0.901 (0.033)\n",
            ">0.5 0.900 (0.033)\n",
            ">0.6 0.903 (0.026)\n",
            ">0.7 0.902 (0.028)\n",
            ">0.8 0.902 (0.026)\n",
            ">0.9 0.898 (0.028)\n",
            ">1.0 0.899 (0.029)\n"
          ],
          "name": "stdout"
        },
        {
          "output_type": "display_data",
          "data": {
            "image/png": "[encoded data removed]",
            "text/plain": [
              "<Figure size 432x288 with 1 Axes>"
            ]
          },
          "metadata": {
            "tags": [],
            "needs_background": "light"
          }
        }
      ]
    },
    {
      "cell_type": "markdown",
      "metadata": {
        "id": "IeMbbLeInWsN"
      },
      "source": [
        "in this case, we can see that mean performance increases to about half the number of features (50 percent) and stays somewhat level after that. It’s surprising that removing half of the input variables per tree has so little effect.\r\n",
        "\r\n",
        "We can see the general trend of increasing model performance perhaps peaking with a ratio of 60 percent and staying somewhat level."
      ]
    }
  ]
}