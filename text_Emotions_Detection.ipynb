{
  "nbformat": 4,
  "nbformat_minor": 0,
  "metadata": {
    "colab": {
      "name": "text Emotions Detection.ipynb",
      "provenance": [],
      "toc_visible": true,
      "authorship_tag": "ABX9TyMVAtrPT8Nj2WH6XMFQ4piB",
      "include_colab_link": true
    },
    "kernelspec": {
      "name": "python3",
      "display_name": "Python 3"
    }
  },
  "cells": [
    {
      "cell_type": "markdown",
      "metadata": {
        "id": "view-in-github",
        "colab_type": "text"
      },
      "source": [
        "<a href=\"https://colab.research.google.com/github/adrien50/basicprojectmachinelearning/blob/main/text_Emotions_Detection.ipynb\" target=\"_parent\"><img src=\"https://colab.research.google.com/assets/colab-badge.svg\" alt=\"Open In Colab\"/></a>"
      ]
    },
    {
      "cell_type": "code",
      "metadata": {
        "id": "bsBb1ZXb8gC9"
      },
      "source": [
        ""
      ],
      "execution_count": null,
      "outputs": []
    },
    {
      "cell_type": "markdown",
      "metadata": {
        "id": "8um_sniu8gll"
      },
      "source": [
        "###Introduction\r\n",
        "Emotion is the state of mind that is aligned with feelings, and thoughts usually directed toward a specific object. Emotion is a behavior that reflects personal significance or opinion regarding the interaction we have with other human beings or related to a certain event. The human being is able to identify the emotions from textual data and can understand the matter of the text. But if you think about the machines, can they able to identify the emotions from the text?\r\n",
        "\r\n",
        "###1. What is text2emotion?\r\n",
        "\r\n",
        "Text2emotion is the python package developed with the clear intension to find the appropriate emotions embedded in the text data. The research says that when the human is in the thinking process and he is damn sure about his statement then he will express his emotions in the right context of manner and it will be proper aligned in case of words expressing those emotions.\r\n",
        "If I want to tell you in simple words then consider if the customer did not like the product by investing the large amount then he will surely give his feedback like “I am very angry by your product services and gonna file a complaint regarding this issue”. When you read this kind of feedback then you will be sure that the customer is completely angry about product services and we have to improve it as soon as possible. Text2emotion works, in the same manner, to extract the emotions from the text.\r\n",
        "\r\n",
        "Let’s conclude this, Text2Emotion is the python package that will assist you to pull out the emotions from the content.\r\n",
        "\r\n",
        "Processes any textual data, recognizes the emotion embedded in it, and provides the output in the form of a dictionary.\r\n",
        "\r\n",
        "Well suited with 5 basic emotion categories such as Happy, Angry, Sad, Surprise, and Fear."
      ]
    },
    {
      "cell_type": "code",
      "metadata": {
        "colab": {
          "base_uri": "https://localhost:8080/"
        },
        "id": "noNdYO6U8iY9",
        "outputId": "703bfeb8-bc5a-46b0-87e0-669d391fcaa0"
      },
      "source": [
        "#Install package using pip\r\n",
        "!pip install text2emotion"
      ],
      "execution_count": 1,
      "outputs": [
        {
          "output_type": "stream",
          "text": [
            "Collecting text2emotion\n",
            "\u001b[?25l  Downloading https://files.pythonhosted.org/packages/fe/31/b190e37c1396ca68ab1b5c8ea1a23f2f7848df532ad69133e94853120aed/text2emotion-0.0.5-py3-none-any.whl (57kB)\n",
            "\u001b[K     |████████████████████████████████| 61kB 4.6MB/s \n",
            "\u001b[?25hCollecting emoji>=0.6.0\n",
            "\u001b[?25l  Downloading https://files.pythonhosted.org/packages/24/fa/b3368f41b95a286f8d300e323449ab4e86b85334c2e0b477e94422b8ed0f/emoji-1.2.0-py3-none-any.whl (131kB)\n",
            "\u001b[K     |████████████████████████████████| 133kB 11.0MB/s \n",
            "\u001b[?25hRequirement already satisfied: nltk in /usr/local/lib/python3.6/dist-packages (from text2emotion) (3.2.5)\n",
            "Requirement already satisfied: six in /usr/local/lib/python3.6/dist-packages (from nltk->text2emotion) (1.15.0)\n",
            "Installing collected packages: emoji, text2emotion\n",
            "Successfully installed emoji-1.2.0 text2emotion-0.0.5\n"
          ],
          "name": "stdout"
        }
      ]
    },
    {
      "cell_type": "code",
      "metadata": {
        "colab": {
          "base_uri": "https://localhost:8080/"
        },
        "id": "TkCaI0Fg92hW",
        "outputId": "5abcd0a6-5763-4fb2-a298-f8b03417a310"
      },
      "source": [
        "#Import the modules\r\n",
        "import text2emotion as te"
      ],
      "execution_count": 2,
      "outputs": [
        {
          "output_type": "stream",
          "text": [
            "[nltk_data] Downloading package stopwords to /root/nltk_data...\n",
            "[nltk_data]   Unzipping corpora/stopwords.zip.\n",
            "[nltk_data] Downloading package punkt to /root/nltk_data...\n",
            "[nltk_data]   Unzipping tokenizers/punkt.zip.\n",
            "[nltk_data] Downloading package wordnet to /root/nltk_data...\n",
            "[nltk_data]   Unzipping corpora/wordnet.zip.\n"
          ],
          "name": "stdout"
        }
      ]
    },
    {
      "cell_type": "code",
      "metadata": {
        "id": "GHamZqMr9906"
      },
      "source": [
        "text = \"I was asked to sign a third party contract a week out from stay. If it wasn't an 8 person group that took a lot of wrangling I would have cancelled the booking straight away. Bathrooms - there are no stand alone bathrooms. Please consider this - you have to clear out the main bedroom to use that bathroom. Other option is you walk through a different bedroom to get to its en-suite. Signs all over the apartment - there are signs everywhere - some helpful - some telling you rules. Perhaps some people like this but It negatively affected our enjoyment of the accommodation. Stairs - lots of them - some had slightly bending wood which caused a minor injury.\""
      ],
      "execution_count": 3,
      "outputs": []
    },
    {
      "cell_type": "code",
      "metadata": {
        "colab": {
          "base_uri": "https://localhost:8080/"
        },
        "id": "jYDdn_h693E5",
        "outputId": "9fd2d33e-984b-4a86-fd98-dcb8f1e1ce79"
      },
      "source": [
        "#Call to the function\r\n",
        "te.get_emotion(text)"
      ],
      "execution_count": 4,
      "outputs": [
        {
          "output_type": "execute_result",
          "data": {
            "text/plain": [
              "{'Angry': 0.12, 'Fear': 0.42, 'Happy': 0.04, 'Sad': 0.33, 'Surprise': 0.08}"
            ]
          },
          "metadata": {
            "tags": []
          },
          "execution_count": 4
        }
      ]
    },
    {
      "cell_type": "markdown",
      "metadata": {
        "id": "1KbLhbpE-WVa"
      },
      "source": [
        "Here, we got the output in terms of the dictionary where we have emotion categories along with the respective score.\r\n",
        "Now, if we think about the scores of the relative emotion categories then the Fear score is 0.42 & the Sad score is 0.33. So on the overall analysis, we can say that the statement we took as input has the Fear & Sad tone.\r\n",
        "The good thing about the package is, it is able to identify the emotion from the emojis which describes human behavior. Let’s take an example,"
      ]
    },
    {
      "cell_type": "markdown",
      "metadata": {
        "id": "N1OjH3B7_F0J"
      },
      "source": [
        "E-Commerce Industry: Customer Engagement Endpoint\r\n",
        "\r\n",
        "Analyzing the input received from customers through various sources such as textual data from chat-bots, logs from contact centers, emails, etc. Tracking these tone signals can help Customer Service Managers improve how their teams interact with customers.\r\n",
        "\r\n",
        "Social Media Monitoring\r\n",
        "\r\n",
        "In today’s digital world Brand Monitoring and reputation management has become one of the most important aspects of every business unit. This is where emotion analysis comes into the picture. It will help companies by allowing them: In tracking the perception of the company by the consumers, in pointing out the attitude of the consumers by giving specific details, finding different patterns and trends, in keeping a close look on the demonstration by the influencers.\r\n"
      ]
    },
    {
      "cell_type": "code",
      "metadata": {
        "colab": {
          "base_uri": "https://localhost:8080/"
        },
        "id": "-ojiXmOb-j7v",
        "outputId": "7bc904cb-3fd8-4e1b-819e-399aedf647e8"
      },
      "source": [
        "text = \"Day was pretty amazing😃😃\"\r\n",
        "te.get_emotion(text)"
      ],
      "execution_count": 5,
      "outputs": [
        {
          "output_type": "execute_result",
          "data": {
            "text/plain": [
              "{'Angry': 0.0, 'Fear': 0.0, 'Happy': 1.0, 'Sad': 0.0, 'Surprise': 0.0}"
            ]
          },
          "metadata": {
            "tags": []
          },
          "execution_count": 5
        }
      ]
    },
    {
      "cell_type": "markdown",
      "metadata": {
        "id": "86fed2sy_2vx"
      },
      "source": [
        "From the output, you can conclude that the text input belongs to the Happy and Surprise emotion category."
      ]
    },
    {
      "cell_type": "markdown",
      "metadata": {
        "id": "X_h-4xhABAeb"
      },
      "source": [
        "###text Emotions Detection with Machine Learning\r\n",
        "In machine learning, the detection of textual emotions is the problem of content-based classification, which is the task of natural language processing. Detecting a person’s emotions is a difficult task, but detecting the emotions using text written by a person is even more difficult as a human can express his emotions in any form.\r\n",
        "\r\n",
        "\r\n",
        "\r\n",
        "Usually, emotions are expressed as joy, sadness, anger, surprise, hate, fear, etc. Recognizing this type of emotion from a text written by a person plays an important role in applications such as chatbots, customer support forum, customer reviews etc. In the section below, I will take you through a machine learning project on Text Emotions Detection using Python where I will build a machine learning model to classify the emotions of a text."
      ]
    },
    {
      "cell_type": "markdown",
      "metadata": {
        "id": "6TQZ1EZjBK1U"
      },
      "source": [
        "###Text Emotions Detection using Python\r\n",
        "For detecting emotions from the text, I will perform a few steps that will start with preparing the data. Then the next step will be tokenization where the textual data will be converted into tokens and from these tokens, we have to identify the emotional words.\r\n",
        "\r\n",
        "These emotional words will be the keyword to classify the emotions of a text. Next, we’ll frame this task in such a way that a text will be taken as an input and the emoji that represents the emotions in that text is generated as the output.\r\n",
        "\r\n"
      ]
    },
    {
      "cell_type": "code",
      "metadata": {
        "colab": {
          "base_uri": "https://localhost:8080/"
        },
        "id": "Ayt4GT1-_5Ld",
        "outputId": "0c5b17e8-ff20-463d-a1f2-cb6a5bbea5a2"
      },
      "source": [
        "import re \r\n",
        "from collections import Counter\r\n",
        "from sklearn.model_selection import train_test_split\r\n",
        "from sklearn.metrics import accuracy_score\r\n",
        "from sklearn.svm import SVC\r\n",
        "from sklearn.svm import LinearSVC\r\n",
        "from sklearn.ensemble import RandomForestClassifier\r\n",
        "from sklearn.tree import DecisionTreeClassifier\r\n",
        "\r\n",
        "def read_data(file):\r\n",
        "    data = []\r\n",
        "    with open(file, 'r')as f:\r\n",
        "        for line in f:\r\n",
        "            line = line.strip()\r\n",
        "            label = ' '.join(line[1:line.find(\"]\")].strip().split())\r\n",
        "            text = line[line.find(\"]\")+1:].strip()\r\n",
        "            data.append([label, text])\r\n",
        "    return data\r\n",
        "\r\n",
        "file = 'text.txt'\r\n",
        "data = read_data(file)\r\n",
        "print(\"Number of instances: {}\".format(len(data)))"
      ],
      "execution_count": 6,
      "outputs": [
        {
          "output_type": "stream",
          "text": [
            "Number of instances: 7480\n"
          ],
          "name": "stdout"
        }
      ]
    },
    {
      "cell_type": "markdown",
      "metadata": {
        "id": "qkGTPyF3CMcE"
      },
      "source": [
        "Now I will create two Python functions for tokenization and generating the features of an input sentence:"
      ]
    },
    {
      "cell_type": "code",
      "metadata": {
        "id": "CAhgGqPgCBSB"
      },
      "source": [
        "def ngram(token, n): \r\n",
        "    output = []\r\n",
        "    for i in range(n-1, len(token)): \r\n",
        "        ngram = ' '.join(token[i-n+1:i+1])\r\n",
        "        output.append(ngram) \r\n",
        "    return output\r\n",
        "\r\n",
        "def create_feature(text, nrange=(1, 1)):\r\n",
        "    text_features = [] \r\n",
        "    text = text.lower() \r\n",
        "    text_alphanum = re.sub('[^a-z0-9#]', ' ', text)\r\n",
        "    for n in range(nrange[0], nrange[1]+1): \r\n",
        "        text_features += ngram(text_alphanum.split(), n)    \r\n",
        "    text_punc = re.sub('[a-z0-9]', ' ', text)\r\n",
        "    text_features += ngram(text_punc.split(), 1)\r\n",
        "    return Counter(text_features)"
      ],
      "execution_count": 7,
      "outputs": []
    },
    {
      "cell_type": "markdown",
      "metadata": {
        "id": "VnXuEiNBCRoP"
      },
      "source": [
        "Now I will create a Python function to store the labels, our labels will be based on emotions such as Joy, Fear, Anger, and so on:"
      ]
    },
    {
      "cell_type": "code",
      "metadata": {
        "id": "4GyBwHxxCVlH"
      },
      "source": [
        "def convert_label(item, name): \r\n",
        "    items = list(map(float, item.split()))\r\n",
        "    label = \"\"\r\n",
        "    for idx in range(len(items)): \r\n",
        "        if items[idx] == 1: \r\n",
        "            label += name[idx] + \" \"\r\n",
        "    \r\n",
        "    return label.strip()\r\n",
        "\r\n",
        "emotions = [\"joy\", 'fear', \"anger\", \"sadness\", \"disgust\", \"shame\", \"guilt\"]\r\n",
        "\r\n",
        "X_all = []\r\n",
        "y_all = []\r\n",
        "for label, text in data:\r\n",
        "    y_all.append(convert_label(label, emotions))\r\n",
        "    X_all.append(create_feature(text, nrange=(1, 4)))"
      ],
      "execution_count": 8,
      "outputs": []
    },
    {
      "cell_type": "code",
      "metadata": {
        "id": "eENH38JACgTn"
      },
      "source": [
        "X_train, X_test, y_train, y_test = train_test_split(X_all, y_all, test_size = 0.2, random_state = 123)\r\n",
        "\r\n",
        "def train_test(clf, X_train, X_test, y_train, y_test):\r\n",
        "    clf.fit(X_train, y_train)\r\n",
        "    train_acc = accuracy_score(y_train, clf.predict(X_train))\r\n",
        "    test_acc = accuracy_score(y_test, clf.predict(X_test))\r\n",
        "    return train_acc, test_acc\r\n",
        "\r\n",
        "from sklearn.feature_extraction import DictVectorizer\r\n",
        "vectorizer = DictVectorizer(sparse = True)\r\n",
        "X_train = vectorizer.fit_transform(X_train)\r\n",
        "X_test = vectorizer.transform(X_test)"
      ],
      "execution_count": 9,
      "outputs": []
    },
    {
      "cell_type": "markdown",
      "metadata": {
        "id": "ydXL_zpFCmr_"
      },
      "source": [
        "Now I’m going to train four machine learning models and then choose the model that works best on the training and testing sets:"
      ]
    },
    {
      "cell_type": "code",
      "metadata": {
        "colab": {
          "base_uri": "https://localhost:8080/"
        },
        "id": "JsgQtxuzCnye",
        "outputId": "c69ef9e0-5e32-45b8-bcca-e9688a96ec15"
      },
      "source": [
        "svc = SVC()\r\n",
        "lsvc = LinearSVC(random_state=123)\r\n",
        "rforest = RandomForestClassifier(random_state=123)\r\n",
        "dtree = DecisionTreeClassifier()\r\n",
        "\r\n",
        "clifs = [svc, lsvc, rforest, dtree]\r\n",
        "\r\n",
        "# train and test them \r\n",
        "print(\"| {:25} | {} | {} |\".format(\"Classifier\", \"Training Accuracy\", \"Test Accuracy\"))\r\n",
        "print(\"| {} | {} | {} |\".format(\"-\"*25, \"-\"*17, \"-\"*13))\r\n",
        "for clf in clifs: \r\n",
        "    clf_name = clf.__class__.__name__\r\n",
        "    train_acc, test_acc = train_test(clf, X_train, X_test, y_train, y_test)\r\n",
        "    print(\"| {:25} | {:17.7f} | {:13.7f} |\".format(clf_name, train_acc, test_acc))"
      ],
      "execution_count": 10,
      "outputs": [
        {
          "output_type": "stream",
          "text": [
            "| Classifier                | Training Accuracy | Test Accuracy |\n",
            "| ------------------------- | ----------------- | ------------- |\n",
            "| SVC                       |         0.9067513 |     0.4512032 |\n"
          ],
          "name": "stdout"
        },
        {
          "output_type": "stream",
          "text": [
            "/usr/local/lib/python3.6/dist-packages/sklearn/svm/_base.py:947: ConvergenceWarning: Liblinear failed to converge, increase the number of iterations.\n",
            "  \"the number of iterations.\", ConvergenceWarning)\n"
          ],
          "name": "stderr"
        },
        {
          "output_type": "stream",
          "text": [
            "| LinearSVC                 |         0.9988302 |     0.5768717 |\n",
            "| RandomForestClassifier    |         0.9988302 |     0.5541444 |\n",
            "| DecisionTreeClassifier    |         0.9988302 |     0.4598930 |\n"
          ],
          "name": "stdout"
        }
      ]
    }
  ]
}