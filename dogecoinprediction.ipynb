{
  "nbformat": 4,
  "nbformat_minor": 0,
  "metadata": {
    "colab": {
      "name": "Untitled102.ipynb",
      "provenance": [],
      "authorship_tag": "ABX9TyNDHzB77W563yHsXCj8q4r0",
      "include_colab_link": true
    },
    "kernelspec": {
      "name": "python3",
      "display_name": "Python 3"
    },
    "language_info": {
      "name": "python"
    }
  },
  "cells": [
    {
      "cell_type": "markdown",
      "metadata": {
        "id": "view-in-github",
        "colab_type": "text"
      },
      "source": [
        "<a href=\"https://colab.research.google.com/github/adrien50/basicprojectmachinelearning/blob/main/dogecoinprediction.ipynb\" target=\"_parent\"><img src=\"https://colab.research.google.com/assets/colab-badge.svg\" alt=\"Open In Colab\"/></a>"
      ]
    },
    {
      "cell_type": "code",
      "metadata": {
        "id": "zz0vipOrpfq0"
      },
      "source": [
        ""
      ],
      "execution_count": null,
      "outputs": []
    },
    {
      "cell_type": "markdown",
      "metadata": {
        "id": "WwBBscKAsUH3"
      },
      "source": [
        "Dogecoin is the reason for the recent drop in bitcoin prices. The price of Dogecoin is currently very cheap compared to bitcoin, but some financial experts, including Tesla’s CEO Elon Musk, claiming that we will see a rise in the price of Dogecoin soon. So, if you want to learn how to predict the future prices of Dogecoin, this article is for you. In this article, I will walk you through the task of Dogecoin Price Prediction with Machine Learning using Python."
      ]
    },
    {
      "cell_type": "markdown",
      "metadata": {
        "id": "GbGRDHYRsY0F"
      },
      "source": [
        "## Dogecoin Price Prediction\n",
        "Predicting the price of a cryptocurrency is a regression problem in machine learning. Bitcoin is one of the most successful examples of cryptocurrency, but we recently saw a major drop in bitcoin prices due to dogecoin. Unlike bitcoin, dogecoin is very cheap right now, but financial experts are predicting that we may see a major increase in dogecoin prices.\n",
        "\n",
        "There are many machine learning approaches that we can use for the task of Dogecoin price prediction. You can train a machine learning model or you can also use an already available powerful model like the Facebook Prophet Model. But in the section below, I will be using the autots library in Python for the task of Dogecoin price prediction with machine learning."
      ]
    },
    {
      "cell_type": "markdown",
      "metadata": {
        "id": "e-S1ydOps0PW"
      },
      "source": [
        "## Dogecoin Price Prediction using Python\n",
        "To predict future Dogecoin prices, you first need to get a dataset for this task. So to get a dataset for the Dogecoin price prediction task just follow the steps mentioned below:\n",
        "\n",
        "Visit Yahoo Finance\n",
        "\n",
        "Search for “Dogecoin”\n",
        "\n",
        "Click on “Historical Data”\n",
        "\n",
        "Click on “Download”"
      ]
    },
    {
      "cell_type": "markdown",
      "metadata": {
        "id": "Zva2xscQtkXO"
      },
      "source": [
        "After completing the steps mentioned above you will find a dataset of historical prices of Dogecoin in your downloads folder. Now let’s get started with the task of Dogecoin price prediction by importing the necessary Python libraries and the dataset:"
      ]
    },
    {
      "cell_type": "code",
      "metadata": {
        "colab": {
          "base_uri": "https://localhost:8080/"
        },
        "id": "hQwE3OUquwHs",
        "outputId": "bd7a25ca-4a20-4f41-e4dc-e40b8166e3bf"
      },
      "source": [
        "!pip install autots"
      ],
      "execution_count": 1,
      "outputs": [
        {
          "output_type": "stream",
          "text": [
            "Collecting autots\n",
            "\u001b[?25l  Downloading https://files.pythonhosted.org/packages/37/04/cd3cdd57d8f27394f6d86f5facc827eabb691b290dc63abb40e3f687163b/AutoTS-0.3.1-py3-none-any.whl (390kB)\n",
            "\r\u001b[K     |▉                               | 10kB 25.1MB/s eta 0:00:01\r\u001b[K     |█▊                              | 20kB 24.9MB/s eta 0:00:01\r\u001b[K     |██▌                             | 30kB 17.1MB/s eta 0:00:01\r\u001b[K     |███▍                            | 40kB 13.0MB/s eta 0:00:01\r\u001b[K     |████▏                           | 51kB 7.3MB/s eta 0:00:01\r\u001b[K     |█████                           | 61kB 8.1MB/s eta 0:00:01\r\u001b[K     |█████▉                          | 71kB 8.9MB/s eta 0:00:01\r\u001b[K     |██████▊                         | 81kB 9.8MB/s eta 0:00:01\r\u001b[K     |███████▋                        | 92kB 9.0MB/s eta 0:00:01\r\u001b[K     |████████▍                       | 102kB 7.3MB/s eta 0:00:01\r\u001b[K     |█████████▎                      | 112kB 7.3MB/s eta 0:00:01\r\u001b[K     |██████████                      | 122kB 7.3MB/s eta 0:00:01\r\u001b[K     |███████████                     | 133kB 7.3MB/s eta 0:00:01\r\u001b[K     |███████████▊                    | 143kB 7.3MB/s eta 0:00:01\r\u001b[K     |████████████▋                   | 153kB 7.3MB/s eta 0:00:01\r\u001b[K     |█████████████▍                  | 163kB 7.3MB/s eta 0:00:01\r\u001b[K     |██████████████▎                 | 174kB 7.3MB/s eta 0:00:01\r\u001b[K     |███████████████▏                | 184kB 7.3MB/s eta 0:00:01\r\u001b[K     |████████████████                | 194kB 7.3MB/s eta 0:00:01\r\u001b[K     |████████████████▉               | 204kB 7.3MB/s eta 0:00:01\r\u001b[K     |█████████████████▋              | 215kB 7.3MB/s eta 0:00:01\r\u001b[K     |██████████████████▌             | 225kB 7.3MB/s eta 0:00:01\r\u001b[K     |███████████████████▎            | 235kB 7.3MB/s eta 0:00:01\r\u001b[K     |████████████████████▏           | 245kB 7.3MB/s eta 0:00:01\r\u001b[K     |█████████████████████           | 256kB 7.3MB/s eta 0:00:01\r\u001b[K     |█████████████████████▉          | 266kB 7.3MB/s eta 0:00:01\r\u001b[K     |██████████████████████▊         | 276kB 7.3MB/s eta 0:00:01\r\u001b[K     |███████████████████████▌        | 286kB 7.3MB/s eta 0:00:01\r\u001b[K     |████████████████████████▍       | 296kB 7.3MB/s eta 0:00:01\r\u001b[K     |█████████████████████████▏      | 307kB 7.3MB/s eta 0:00:01\r\u001b[K     |██████████████████████████      | 317kB 7.3MB/s eta 0:00:01\r\u001b[K     |██████████████████████████▉     | 327kB 7.3MB/s eta 0:00:01\r\u001b[K     |███████████████████████████▊    | 337kB 7.3MB/s eta 0:00:01\r\u001b[K     |████████████████████████████▌   | 348kB 7.3MB/s eta 0:00:01\r\u001b[K     |█████████████████████████████▍  | 358kB 7.3MB/s eta 0:00:01\r\u001b[K     |██████████████████████████████▎ | 368kB 7.3MB/s eta 0:00:01\r\u001b[K     |███████████████████████████████ | 378kB 7.3MB/s eta 0:00:01\r\u001b[K     |████████████████████████████████| 389kB 7.3MB/s eta 0:00:01\r\u001b[K     |████████████████████████████████| 399kB 7.3MB/s \n",
            "\u001b[?25hRequirement already satisfied: numpy>=1.14.6 in /usr/local/lib/python3.7/dist-packages (from autots) (1.19.5)\n",
            "Requirement already satisfied: statsmodels>=0.10.* in /usr/local/lib/python3.7/dist-packages (from autots) (0.10.2)\n",
            "Requirement already satisfied: scikit-learn>=0.20.* in /usr/local/lib/python3.7/dist-packages (from autots) (0.22.2.post1)\n",
            "Requirement already satisfied: pandas>=0.25.* in /usr/local/lib/python3.7/dist-packages (from autots) (1.1.5)\n",
            "Requirement already satisfied: patsy>=0.4.0 in /usr/local/lib/python3.7/dist-packages (from statsmodels>=0.10.*->autots) (0.5.1)\n",
            "Requirement already satisfied: scipy>=0.18 in /usr/local/lib/python3.7/dist-packages (from statsmodels>=0.10.*->autots) (1.4.1)\n",
            "Requirement already satisfied: joblib>=0.11 in /usr/local/lib/python3.7/dist-packages (from scikit-learn>=0.20.*->autots) (1.0.1)\n",
            "Requirement already satisfied: python-dateutil>=2.7.3 in /usr/local/lib/python3.7/dist-packages (from pandas>=0.25.*->autots) (2.8.1)\n",
            "Requirement already satisfied: pytz>=2017.2 in /usr/local/lib/python3.7/dist-packages (from pandas>=0.25.*->autots) (2018.9)\n",
            "Requirement already satisfied: six in /usr/local/lib/python3.7/dist-packages (from patsy>=0.4.0->statsmodels>=0.10.*->autots) (1.15.0)\n",
            "Installing collected packages: autots\n",
            "Successfully installed autots-0.3.1\n"
          ],
          "name": "stdout"
        }
      ]
    },
    {
      "cell_type": "code",
      "metadata": {
        "colab": {
          "base_uri": "https://localhost:8080/"
        },
        "id": "p376_wHWsUyh",
        "outputId": "dd1cfa68-ada8-421b-d225-71469c6ebb74"
      },
      "source": [
        "import numpy as np\n",
        "import pandas as pd\n",
        "import matplotlib.pyplot as plt\n",
        "import seaborn as sns\n",
        "from seaborn import regression\n",
        "sns.set()\n",
        "plt.style.use('seaborn-whitegrid')\n",
        "\n",
        "data = pd.read_csv(\"DOGE-USD.csv\")\n",
        "print(data.head())"
      ],
      "execution_count": 2,
      "outputs": [
        {
          "output_type": "stream",
          "text": [
            "         Date      Open      High       Low     Close  Adj Close       Volume\n",
            "0  2020-06-08  0.002606  0.002607  0.002561  0.002584   0.002584  187140783.0\n",
            "1  2020-06-09  0.002584  0.002587  0.002517  0.002569   0.002569  175910197.0\n",
            "2  2020-06-10  0.002569  0.002595  0.002553  0.002584   0.002584  182748021.0\n",
            "3  2020-06-11  0.002584  0.002602  0.002429  0.002452   0.002452  183212798.0\n",
            "4  2020-06-12  0.002455  0.002533  0.002447  0.002520   0.002520  194920048.0\n"
          ],
          "name": "stdout"
        }
      ]
    },
    {
      "cell_type": "markdown",
      "metadata": {
        "id": "JOHUNSUevKYJ"
      },
      "source": [
        "In this dataset, the “close” column contains the values whose future values that we want to predict, so let’s have a closer look at the historical values of close prices of Dogecoin:"
      ]
    },
    {
      "cell_type": "code",
      "metadata": {
        "colab": {
          "base_uri": "https://localhost:8080/",
          "height": 293
        },
        "id": "vtstw8CqvLCC",
        "outputId": "91a97354-0857-4d9b-a635-e94f3c108742"
      },
      "source": [
        "data.dropna()\n",
        "plt.figure(figsize=(10, 4))\n",
        "plt.title(\"DogeCoin Price INR\")\n",
        "plt.xlabel(\"Date\")\n",
        "plt.ylabel(\"Close\")\n",
        "plt.plot(data[\"Close\"])\n",
        "plt.show()"
      ],
      "execution_count": 3,
      "outputs": [
        {
          "output_type": "display_data",
          "data": {
            "image/png": "[encoded data removed]",
            "text/plain": [
              "<Figure size 720x288 with 1 Axes>"
            ]
          },
          "metadata": {
            "tags": []
          }
        }
      ]
    },
    {
      "cell_type": "markdown",
      "metadata": {
        "id": "HGuICB6Svcek"
      },
      "source": [
        ""
      ]
    },
    {
      "cell_type": "markdown",
      "metadata": {
        "id": "JNDtese_vcju"
      },
      "source": [
        "Now I will be using the autots library in Python to train a machine learning model for predicting the future prices of Dogecoin. If you have never used this library before then you can easily install it in your system by using the pip command:"
      ]
    },
    {
      "cell_type": "code",
      "metadata": {
        "colab": {
          "base_uri": "https://localhost:8080/"
        },
        "id": "l4-Tmqd1vdOx",
        "outputId": "dbe88182-0152-4698-9428-741c651aca30"
      },
      "source": [
        "from autots import AutoTS\n",
        "model = AutoTS(forecast_length=10, frequency='infer', ensemble='simple', drop_data_older_than_periods=200)\n",
        "model = model.fit(data, date_col='Date', value_col='Close', id_col=None)\n",
        "\n",
        "prediction = model.predict()\n",
        "forecast = prediction.forecast\n",
        "print(\"DogeCoin Price Prediction\")\n",
        "print(forecast)"
      ],
      "execution_count": 4,
      "outputs": [
        {
          "output_type": "stream",
          "text": [
            "/usr/local/lib/python3.7/dist-packages/autots/models/sklearn.py:376: VisibleDeprecationWarning:\n",
            "\n",
            "Creating an ndarray from ragged nested sequences (which is a list-or-tuple of lists-or-tuples-or ndarrays with different lengths or shapes) is deprecated. If you meant to do this, you must specify 'dtype=object' when creating the ndarray\n",
            "\n"
          ],
          "name": "stderr"
        },
        {
          "output_type": "stream",
          "text": [
            "Inferred frequency is: D\n",
            "Old data dropped by `drop_data_older_than_periods`.\n",
            "Model Number: 1 with model AverageValueNaive in generation 0 of 5\n",
            "Model Number: 2 with model AverageValueNaive in generation 0 of 5\n",
            "Model Number: 3 with model AverageValueNaive in generation 0 of 5\n",
            "Template Eval Error: ValueError('Unable to coerce to Series, length must be 1: given 190') in model 3: AverageValueNaive\n",
            "Model Number: 4 with model DatepartRegression in generation 0 of 5\n"
          ],
          "name": "stdout"
        },
        {
          "output_type": "stream",
          "text": [
            "/usr/local/lib/python3.7/dist-packages/statsmodels/tools/_testing.py:19: FutureWarning:\n",
            "\n",
            "pandas.util.testing is deprecated. Use the functions in the public API at pandas.testing instead.\n",
            "\n"
          ],
          "name": "stderr"
        },
        {
          "output_type": "stream",
          "text": [
            "Model Number: 5 with model DatepartRegression in generation 0 of 5\n",
            "Model Number: 6 with model DatepartRegression in generation 0 of 5\n"
          ],
          "name": "stdout"
        },
        {
          "output_type": "stream",
          "text": [
            "/usr/local/lib/python3.7/dist-packages/sklearn/neural_network/_multilayer_perceptron.py:1342: DataConversionWarning:\n",
            "\n",
            "A column-vector y was passed when a 1d array was expected. Please change the shape of y to (n_samples, ), for example using ravel().\n",
            "\n"
          ],
          "name": "stderr"
        },
        {
          "output_type": "stream",
          "text": [
            "Model Number: 7 with model DatepartRegression in generation 0 of 5\n",
            "Epoch 1/50\n",
            "6/6 [==============================] - 3s 6ms/step - loss: 0.4327\n",
            "Epoch 2/50\n",
            "6/6 [==============================] - 0s 5ms/step - loss: 0.4288\n",
            "Epoch 3/50\n",
            "6/6 [==============================] - 0s 5ms/step - loss: 0.4095\n",
            "Epoch 4/50\n",
            "6/6 [==============================] - 0s 5ms/step - loss: 0.3809\n",
            "Epoch 5/50\n",
            "6/6 [==============================] - 0s 6ms/step - loss: 0.3743\n",
            "Epoch 6/50\n",
            "6/6 [==============================] - 0s 5ms/step - loss: 0.3681\n",
            "Epoch 7/50\n",
            "6/6 [==============================] - 0s 8ms/step - loss: 0.3481\n",
            "Epoch 8/50\n",
            "6/6 [==============================] - 0s 6ms/step - loss: 0.3463\n",
            "Epoch 9/50\n",
            "6/6 [==============================] - 0s 5ms/step - loss: 0.3269\n",
            "Epoch 10/50\n",
            "6/6 [==============================] - 0s 6ms/step - loss: 0.3226\n",
            "Epoch 11/50\n",
            "6/6 [==============================] - 0s 6ms/step - loss: 0.3113\n",
            "Epoch 12/50\n",
            "6/6 [==============================] - 0s 6ms/step - loss: 0.2880\n",
            "Epoch 13/50\n",
            "6/6 [==============================] - 0s 6ms/step - loss: 0.2732\n",
            "Epoch 14/50\n",
            "6/6 [==============================] - 0s 7ms/step - loss: 0.2606\n",
            "Epoch 15/50\n",
            "6/6 [==============================] - 0s 5ms/step - loss: 0.2401\n",
            "Epoch 16/50\n",
            "6/6 [==============================] - 0s 6ms/step - loss: 0.2365\n",
            "Epoch 17/50\n",
            "6/6 [==============================] - 0s 7ms/step - loss: 0.2229\n",
            "Epoch 18/50\n",
            "6/6 [==============================] - 0s 6ms/step - loss: 0.2092\n",
            "Epoch 19/50\n",
            "6/6 [==============================] - 0s 7ms/step - loss: 0.2063\n",
            "Epoch 20/50\n",
            "6/6 [==============================] - 0s 7ms/step - loss: 0.1913\n",
            "Epoch 21/50\n",
            "6/6 [==============================] - 0s 6ms/step - loss: 0.1802\n",
            "Epoch 22/50\n",
            "6/6 [==============================] - 0s 7ms/step - loss: 0.1686\n",
            "Epoch 23/50\n",
            "6/6 [==============================] - 0s 5ms/step - loss: 0.1746\n",
            "Epoch 24/50\n",
            "6/6 [==============================] - 0s 6ms/step - loss: 0.1594\n",
            "Epoch 25/50\n",
            "6/6 [==============================] - 0s 7ms/step - loss: 0.1576\n",
            "Epoch 26/50\n",
            "6/6 [==============================] - 0s 6ms/step - loss: 0.1576\n",
            "Epoch 27/50\n",
            "6/6 [==============================] - 0s 6ms/step - loss: 0.1510\n",
            "Epoch 28/50\n",
            "6/6 [==============================] - 0s 6ms/step - loss: 0.1552\n",
            "Epoch 29/50\n",
            "6/6 [==============================] - 0s 6ms/step - loss: 0.1449\n",
            "Epoch 30/50\n",
            "6/6 [==============================] - 0s 6ms/step - loss: 0.1467\n",
            "Epoch 31/50\n",
            "6/6 [==============================] - 0s 7ms/step - loss: 0.1438\n",
            "Epoch 32/50\n",
            "6/6 [==============================] - 0s 7ms/step - loss: 0.1470\n",
            "Epoch 33/50\n",
            "6/6 [==============================] - 0s 6ms/step - loss: 0.1384\n",
            "Epoch 34/50\n",
            "6/6 [==============================] - 0s 8ms/step - loss: 0.1438\n",
            "Epoch 35/50\n",
            "6/6 [==============================] - 0s 6ms/step - loss: 0.1367\n",
            "Epoch 36/50\n",
            "6/6 [==============================] - 0s 7ms/step - loss: 0.1393\n",
            "Epoch 37/50\n",
            "6/6 [==============================] - 0s 8ms/step - loss: 0.1340\n",
            "Epoch 38/50\n",
            "6/6 [==============================] - 0s 8ms/step - loss: 0.1261\n",
            "Epoch 39/50\n",
            "6/6 [==============================] - 0s 7ms/step - loss: 0.1321\n",
            "Epoch 40/50\n",
            "6/6 [==============================] - 0s 6ms/step - loss: 0.1245\n",
            "Epoch 41/50\n",
            "6/6 [==============================] - 0s 4ms/step - loss: 0.1289\n",
            "Epoch 42/50\n",
            "6/6 [==============================] - 0s 5ms/step - loss: 0.1325\n",
            "Epoch 43/50\n",
            "6/6 [==============================] - 0s 6ms/step - loss: 0.1244\n",
            "Epoch 44/50\n",
            "6/6 [==============================] - 0s 6ms/step - loss: 0.1235\n",
            "Epoch 45/50\n",
            "6/6 [==============================] - 0s 6ms/step - loss: 0.1253\n",
            "Epoch 46/50\n",
            "6/6 [==============================] - 0s 6ms/step - loss: 0.1130\n",
            "Epoch 47/50\n",
            "6/6 [==============================] - 0s 6ms/step - loss: 0.1207\n",
            "Epoch 48/50\n",
            "6/6 [==============================] - 0s 8ms/step - loss: 0.1209\n",
            "Epoch 49/50\n",
            "6/6 [==============================] - 0s 6ms/step - loss: 0.1107\n",
            "Epoch 50/50\n",
            "6/6 [==============================] - 0s 9ms/step - loss: 0.1130\n",
            "Model Number: 8 with model ETS in generation 0 of 5\n",
            "Model Number: 9 with model ETS in generation 0 of 5\n",
            "Template Eval Error: ValueError('Unable to coerce to Series, length must be 1: given 190') in model 9: ETS\n",
            "Model Number: 10 with model GLM in generation 0 of 5\n",
            "Model Number: 11 with model GLM in generation 0 of 5\n",
            "Model Number: 12 with model GLS in generation 0 of 5\n",
            "Model Number: 13 with model GLS in generation 0 of 5\n",
            "Model Number: 14 with model GluonTS in generation 0 of 5\n",
            "Template Eval Error: ImportError('GluonTS installation not found or installed version is incompatible with AutoTS.') in model 14: GluonTS\n",
            "Model Number: 15 with model GluonTS in generation 0 of 5\n",
            "Template Eval Error: ImportError('GluonTS installation not found or installed version is incompatible with AutoTS.') in model 15: GluonTS\n",
            "Model Number: 16 with model GluonTS in generation 0 of 5\n",
            "Template Eval Error: ImportError('GluonTS installation not found or installed version is incompatible with AutoTS.') in model 16: GluonTS\n",
            "Model Number: 17 with model GluonTS in generation 0 of 5\n",
            "Template Eval Error: ImportError('GluonTS installation not found or installed version is incompatible with AutoTS.') in model 17: GluonTS\n",
            "Model Number: 18 with model GluonTS in generation 0 of 5\n",
            "Template Eval Error: ImportError('GluonTS installation not found or installed version is incompatible with AutoTS.') in model 18: GluonTS\n",
            "Model Number: 19 with model GluonTS in generation 0 of 5\n",
            "Template Eval Error: ImportError('GluonTS installation not found or installed version is incompatible with AutoTS.') in model 19: GluonTS\n",
            "Model Number: 20 with model LastValueNaive in generation 0 of 5\n",
            "Model Number: 21 with model LastValueNaive in generation 0 of 5\n",
            "Model Number: 22 with model LastValueNaive in generation 0 of 5\n",
            "Model Number: 23 with model LastValueNaive in generation 0 of 5\n",
            "Model Number: 24 with model SeasonalNaive in generation 0 of 5\n",
            "Model Number: 25 with model SeasonalNaive in generation 0 of 5\n",
            "Model Number: 26 with model SeasonalNaive in generation 0 of 5\n",
            "Template Eval Error: ValueError('Unable to coerce to Series, length must be 1: given 190') in model 26: SeasonalNaive\n",
            "Model Number: 27 with model SeasonalNaive in generation 0 of 5\n",
            "Model Number: 28 with model UnobservedComponents in generation 0 of 5\n",
            "Model Number: 29 with model UnobservedComponents in generation 0 of 5\n",
            "Model Number: 30 with model UnobservedComponents in generation 0 of 5\n",
            "Model Number: 31 with model VAR in generation 0 of 5\n",
            "Template Eval Error: ValueError('Only gave one variable to VAR') in model 31: VAR\n",
            "Model Number: 32 with model VAR in generation 0 of 5\n",
            "Template Eval Error: ValueError('Only gave one variable to VAR') in model 32: VAR\n",
            "Model Number: 33 with model VAR in generation 0 of 5\n",
            "Template Eval Error: ValueError('Only gave one variable to VAR') in model 33: VAR\n",
            "Model Number: 34 with model VECM in generation 0 of 5\n",
            "Template Eval Error: ValueError('Unable to coerce to Series, length must be 1: given 190') in model 34: VECM\n",
            "Model Number: 35 with model VECM in generation 0 of 5\n",
            "Template Eval Error: ValueError('Only gave one variable to VECM') in model 35: VECM\n",
            "Model Number: 36 with model VECM in generation 0 of 5\n",
            "Template Eval Error: ValueError('Only gave one variable to VECM') in model 36: VECM\n",
            "Model Number: 37 with model VECM in generation 0 of 5\n",
            "Template Eval Error: ValueError('Only gave one variable to VECM') in model 37: VECM\n",
            "Model Number: 38 with model WindowRegression in generation 0 of 5\n"
          ],
          "name": "stdout"
        },
        {
          "output_type": "stream",
          "text": [
            "/usr/local/lib/python3.7/dist-packages/sklearn/neural_network/_multilayer_perceptron.py:470: ConvergenceWarning:\n",
            "\n",
            "lbfgs failed to converge (status=1):\n",
            "STOP: TOTAL NO. of ITERATIONS REACHED LIMIT.\n",
            "\n",
            "Increase the number of iterations (max_iter) or scale the data as shown in:\n",
            "    https://scikit-learn.org/stable/modules/preprocessing.html\n",
            "\n"
          ],
          "name": "stderr"
        },
        {
          "output_type": "stream",
          "text": [
            "Model Number: 39 with model ZeroesNaive in generation 0 of 5\n",
            "Model Number: 40 with model WindowRegression in generation 0 of 5\n",
            "Template Eval Error: ValueError('at least one array or dtype is required') in model 40: WindowRegression\n",
            "Model Number: 41 with model FBProphet in generation 0 of 5\n"
          ],
          "name": "stdout"
        },
        {
          "output_type": "stream",
          "text": [
            "INFO:fbprophet:Disabling yearly seasonality. Run prophet with yearly_seasonality=True to override this.\n",
            "INFO:fbprophet:Disabling daily seasonality. Run prophet with daily_seasonality=True to override this.\n",
            "INFO:fbprophet:Disabling yearly seasonality. Run prophet with yearly_seasonality=True to override this.\n",
            "INFO:fbprophet:Disabling daily seasonality. Run prophet with daily_seasonality=True to override this.\n"
          ],
          "name": "stderr"
        },
        {
          "output_type": "stream",
          "text": [
            "Model Number: 42 with model RollingRegression in generation 0 of 5\n",
            "Template Eval Error: ValueError('Unable to coerce to Series, length must be 1: given 190') in model 42: RollingRegression\n",
            "Model Number: 43 with model LastValueNaive in generation 0 of 5\n",
            "Template Eval Error: ValueError('Unable to coerce to Series, length must be 1: given 190') in model 43: LastValueNaive\n",
            "Model Number: 44 with model LastValueNaive in generation 0 of 5\n",
            "Template Eval Error: ValueError('Unable to coerce to Series, length must be 1: given 190') in model 44: LastValueNaive\n",
            "Model Number: 45 with model GLM in generation 0 of 5\n",
            "Template Eval Error: ValueError('Unable to coerce to Series, length must be 1: given 190') in model 45: GLM\n",
            "Model Number: 46 with model FBProphet in generation 0 of 5\n",
            "Model Number: 47 with model WindowRegression in generation 0 of 5\n"
          ],
          "name": "stdout"
        },
        {
          "output_type": "stream",
          "text": [
            "/usr/local/lib/python3.7/dist-packages/sklearn/neural_network/_multilayer_perceptron.py:1342: DataConversionWarning:\n",
            "\n",
            "A column-vector y was passed when a 1d array was expected. Please change the shape of y to (n_samples, ), for example using ravel().\n",
            "\n"
          ],
          "name": "stderr"
        },
        {
          "output_type": "stream",
          "text": [
            "Model Number: 48 with model UnobservedComponents in generation 0 of 5\n",
            "Model Number: 49 with model ZeroesNaive in generation 0 of 5\n",
            "Model Number: 50 with model SeasonalNaive in generation 0 of 5\n",
            "Model Number: 51 with model LastValueNaive in generation 0 of 5\n",
            "Template Eval Error: ValueError('Unable to coerce to Series, length must be 1: given 190') in model 51: LastValueNaive\n",
            "Model Number: 52 with model UnobservedComponents in generation 0 of 5\n",
            "Model Number: 53 with model UnobservedComponents in generation 0 of 5\n",
            "Template Eval Error: ValueError('Unable to coerce to Series, length must be 1: given 190') in model 53: UnobservedComponents\n",
            "Model Number: 54 with model WindowRegression in generation 0 of 5\n",
            "Model Number: 55 with model VAR in generation 0 of 5\n",
            "Template Eval Error: ValueError('Only gave one variable to VAR') in model 55: VAR\n",
            "Model Number: 56 with model RollingRegression in generation 0 of 5\n",
            "Template Eval Error: ValueError(\"Input contains NaN, infinity or a value too large for dtype('float32').\") in model 56: RollingRegression\n",
            "Model Number: 57 with model ZeroesNaive in generation 0 of 5\n",
            "Model Number: 58 with model ETS in generation 0 of 5\n",
            "Model Number: 59 with model UnobservedComponents in generation 0 of 5\n",
            "Model Number: 60 with model LastValueNaive in generation 0 of 5\n",
            "Template Eval Error: ValueError('Unable to coerce to Series, length must be 1: given 190') in model 60: LastValueNaive\n",
            "Model Number: 61 with model LastValueNaive in generation 0 of 5\n",
            "Model Number: 62 with model AverageValueNaive in generation 0 of 5\n",
            "Model Number: 63 with model LastValueNaive in generation 0 of 5\n",
            "Template Eval Error: ValueError('Unable to coerce to Series, length must be 1: given 190') in model 63: LastValueNaive\n",
            "Model Number: 64 with model GLM in generation 0 of 5\n",
            "Model Number: 65 with model AverageValueNaive in generation 0 of 5\n",
            "Model Number: 66 with model SeasonalNaive in generation 0 of 5\n",
            "Template Eval Error: ValueError('Unable to coerce to Series, length must be 1: given 190') in model 66: SeasonalNaive\n",
            "Model Number: 67 with model GLS in generation 0 of 5\n",
            "Model Number: 68 with model LastValueNaive in generation 0 of 5\n",
            "Template Eval Error: ValueError('Unable to coerce to Series, length must be 1: given 190') in model 68: LastValueNaive\n",
            "Model Number: 69 with model GLS in generation 0 of 5\n",
            "Model Number: 70 with model RollingRegression in generation 0 of 5\n",
            "Template Eval Error: ValueError('Unable to coerce to Series, length must be 1: given 190') in model 70: RollingRegression\n",
            "Model Number: 71 with model LastValueNaive in generation 0 of 5\n",
            "Model Number: 72 with model VECM in generation 0 of 5\n",
            "Template Eval Error: ValueError('Only gave one variable to VECM') in model 72: VECM\n",
            "Model Number: 73 with model UnobservedComponents in generation 0 of 5\n",
            "Template Eval Error: ValueError('Unable to coerce to Series, length must be 1: given 190') in model 73: UnobservedComponents\n",
            "Model Number: 74 with model LastValueNaive in generation 0 of 5\n",
            "Template Eval Error: ValueError('Unable to coerce to Series, length must be 1: given 190') in model 74: LastValueNaive\n",
            "Model Number: 75 with model WindowRegression in generation 0 of 5\n",
            "Template Eval Error: ValueError('Unable to coerce to Series, length must be 1: given 190') in model 75: WindowRegression\n",
            "Model Number: 76 with model FBProphet in generation 0 of 5\n",
            "Template Eval Error: ValueError('Unable to coerce to Series, length must be 1: given 190') in model 76: FBProphet\n",
            "Model Number: 77 with model VECM in generation 0 of 5\n",
            "Template Eval Error: ValueError('Only gave one variable to VECM') in model 77: VECM\n",
            "Model Number: 78 with model UnobservedComponents in generation 0 of 5\n",
            "Model Number: 79 with model RollingRegression in generation 0 of 5\n",
            "Template Eval Error: NullFrequencyError('Cannot shift with no freq') in model 79: RollingRegression\n",
            "New Generation: 1 of 5\n",
            "Model Number: 80 with model LastValueNaive in generation 1 of 5\n",
            "Model Number: 81 with model LastValueNaive in generation 1 of 5\n",
            "Model Number: 82 with model LastValueNaive in generation 1 of 5\n"
          ],
          "name": "stdout"
        },
        {
          "output_type": "stream",
          "text": [
            "/usr/local/lib/python3.7/dist-packages/autots/models/sklearn.py:439: VisibleDeprecationWarning:\n",
            "\n",
            "Creating an ndarray from ragged nested sequences (which is a list-or-tuple of lists-or-tuples-or ndarrays with different lengths or shapes) is deprecated. If you meant to do this, you must specify 'dtype=object' when creating the ndarray\n",
            "\n",
            "/usr/local/lib/python3.7/dist-packages/statsmodels/genmod/families/links.py:521: RuntimeWarning:\n",
            "\n",
            "overflow encountered in exp\n",
            "\n",
            "/usr/local/lib/python3.7/dist-packages/statsmodels/genmod/families/family.py:134: RuntimeWarning:\n",
            "\n",
            "invalid value encountered in multiply\n",
            "\n",
            "/usr/local/lib/python3.7/dist-packages/statsmodels/genmod/generalized_linear_model.py:1163: RuntimeWarning:\n",
            "\n",
            "invalid value encountered in multiply\n",
            "\n"
          ],
          "name": "stderr"
        },
        {
          "output_type": "stream",
          "text": [
            "Model Number: 83 with model GLM in generation 1 of 5\n",
            "Template Eval Error: ValueError('NaN, inf or invalid value detected in weights, estimation infeasible.') in model 83: GLM\n",
            "Model Number: 84 with model GLM in generation 1 of 5\n",
            "Model Number: 85 with model GLM in generation 1 of 5\n",
            "Model Number: 86 with model GLM in generation 1 of 5\n",
            "Model Number: 87 with model WindowRegression in generation 1 of 5\n",
            "Model Number: 88 with model WindowRegression in generation 1 of 5\n"
          ],
          "name": "stdout"
        },
        {
          "output_type": "stream",
          "text": [
            "/usr/local/lib/python3.7/dist-packages/sklearn/neural_network/_multilayer_perceptron.py:1342: DataConversionWarning:\n",
            "\n",
            "A column-vector y was passed when a 1d array was expected. Please change the shape of y to (n_samples, ), for example using ravel().\n",
            "\n",
            "/usr/local/lib/python3.7/dist-packages/sklearn/neural_network/_multilayer_perceptron.py:470: ConvergenceWarning:\n",
            "\n",
            "lbfgs failed to converge (status=1):\n",
            "STOP: TOTAL NO. of ITERATIONS REACHED LIMIT.\n",
            "\n",
            "Increase the number of iterations (max_iter) or scale the data as shown in:\n",
            "    https://scikit-learn.org/stable/modules/preprocessing.html\n",
            "\n"
          ],
          "name": "stderr"
        },
        {
          "output_type": "stream",
          "text": [
            "Template Eval Error: ValueError(\"Input contains NaN, infinity or a value too large for dtype('float64').\") in model 88: WindowRegression\n",
            "Model Number: 89 with model WindowRegression in generation 1 of 5\n",
            "Template Eval Error: ValueError(\"Input contains NaN, infinity or a value too large for dtype('float64').\") in model 89: WindowRegression\n",
            "Model Number: 90 with model WindowRegression in generation 1 of 5\n",
            "Epoch 1/100\n",
            "6/6 [==============================] - 3s 5ms/step - loss: 35.0603\n",
            "Epoch 2/100\n",
            "6/6 [==============================] - 0s 6ms/step - loss: 25.9378\n",
            "Epoch 3/100\n",
            "6/6 [==============================] - 0s 4ms/step - loss: 21.7492\n",
            "Epoch 4/100\n",
            "6/6 [==============================] - 0s 4ms/step - loss: 18.9540\n",
            "Epoch 5/100\n",
            "6/6 [==============================] - 0s 4ms/step - loss: 16.5575\n",
            "Epoch 6/100\n",
            "6/6 [==============================] - 0s 5ms/step - loss: 14.7440\n",
            "Epoch 7/100\n",
            "6/6 [==============================] - 0s 4ms/step - loss: 13.4548\n",
            "Epoch 8/100\n",
            "6/6 [==============================] - 0s 4ms/step - loss: 12.2113\n",
            "Epoch 9/100\n",
            "6/6 [==============================] - 0s 6ms/step - loss: 11.1051\n",
            "Epoch 10/100\n",
            "6/6 [==============================] - 0s 5ms/step - loss: 10.2507\n",
            "Epoch 11/100\n",
            "6/6 [==============================] - 0s 4ms/step - loss: 9.6383\n",
            "Epoch 12/100\n",
            "6/6 [==============================] - 0s 7ms/step - loss: 9.0092\n",
            "Epoch 13/100\n",
            "6/6 [==============================] - 0s 5ms/step - loss: 8.4877\n",
            "Epoch 14/100\n",
            "6/6 [==============================] - 0s 4ms/step - loss: 8.0374\n",
            "Epoch 15/100\n",
            "6/6 [==============================] - 0s 5ms/step - loss: 7.5628\n",
            "Epoch 16/100\n",
            "6/6 [==============================] - 0s 5ms/step - loss: 7.1949\n",
            "Epoch 17/100\n",
            "6/6 [==============================] - 0s 4ms/step - loss: 6.8031\n",
            "Epoch 18/100\n",
            "6/6 [==============================] - 0s 4ms/step - loss: 6.3934\n",
            "Epoch 19/100\n",
            "6/6 [==============================] - 0s 8ms/step - loss: 5.9560\n",
            "Epoch 20/100\n",
            "6/6 [==============================] - 0s 5ms/step - loss: 5.6844\n",
            "Epoch 21/100\n",
            "6/6 [==============================] - 0s 6ms/step - loss: 5.4330\n",
            "Epoch 22/100\n",
            "6/6 [==============================] - 0s 7ms/step - loss: 5.2071\n",
            "Epoch 23/100\n",
            "6/6 [==============================] - 0s 6ms/step - loss: 4.9938\n",
            "Epoch 24/100\n",
            "6/6 [==============================] - 0s 7ms/step - loss: 4.7923\n",
            "Epoch 25/100\n",
            "6/6 [==============================] - 0s 7ms/step - loss: 4.6040\n",
            "Epoch 26/100\n",
            "6/6 [==============================] - 0s 6ms/step - loss: 4.4191\n",
            "Epoch 27/100\n",
            "6/6 [==============================] - 0s 5ms/step - loss: 4.2660\n",
            "Epoch 28/100\n",
            "6/6 [==============================] - 0s 5ms/step - loss: 4.0262\n",
            "Epoch 29/100\n",
            "6/6 [==============================] - 0s 5ms/step - loss: 3.8244\n",
            "Epoch 30/100\n",
            "6/6 [==============================] - 0s 6ms/step - loss: 3.7273\n",
            "Epoch 31/100\n",
            "6/6 [==============================] - 0s 3ms/step - loss: 3.5957\n",
            "Epoch 32/100\n",
            "6/6 [==============================] - 0s 3ms/step - loss: 3.4838\n",
            "Epoch 33/100\n",
            "6/6 [==============================] - 0s 3ms/step - loss: 3.3652\n",
            "Epoch 34/100\n",
            "6/6 [==============================] - 0s 4ms/step - loss: 3.2816\n",
            "Epoch 35/100\n",
            "6/6 [==============================] - 0s 4ms/step - loss: 3.1686\n",
            "Epoch 36/100\n",
            "6/6 [==============================] - 0s 4ms/step - loss: 3.0898\n",
            "Epoch 37/100\n",
            "6/6 [==============================] - 0s 5ms/step - loss: 2.9904\n",
            "Epoch 38/100\n",
            "6/6 [==============================] - 0s 4ms/step - loss: 2.9078\n",
            "Epoch 39/100\n",
            "6/6 [==============================] - 0s 5ms/step - loss: 2.8309\n",
            "Epoch 40/100\n",
            "6/6 [==============================] - 0s 4ms/step - loss: 2.7561\n",
            "Epoch 41/100\n",
            "6/6 [==============================] - 0s 5ms/step - loss: 2.6768\n",
            "Epoch 42/100\n",
            "6/6 [==============================] - 0s 5ms/step - loss: 2.6035\n",
            "Epoch 43/100\n",
            "6/6 [==============================] - 0s 6ms/step - loss: 2.5371\n",
            "Epoch 44/100\n",
            "6/6 [==============================] - 0s 4ms/step - loss: 2.4706\n",
            "Epoch 45/100\n",
            "6/6 [==============================] - 0s 4ms/step - loss: 2.4064\n",
            "Epoch 46/100\n",
            "6/6 [==============================] - 0s 5ms/step - loss: 2.3445\n",
            "Epoch 47/100\n",
            "6/6 [==============================] - 0s 5ms/step - loss: 2.2878\n",
            "Epoch 48/100\n",
            "6/6 [==============================] - 0s 5ms/step - loss: 2.2245\n",
            "Epoch 49/100\n",
            "6/6 [==============================] - 0s 4ms/step - loss: 2.1739\n",
            "Epoch 50/100\n",
            "6/6 [==============================] - 0s 3ms/step - loss: 2.1166\n",
            "Epoch 51/100\n",
            "6/6 [==============================] - 0s 3ms/step - loss: 2.0692\n",
            "Epoch 52/100\n",
            "6/6 [==============================] - 0s 7ms/step - loss: 2.0152\n",
            "Epoch 53/100\n",
            "6/6 [==============================] - 0s 5ms/step - loss: 1.9669\n",
            "Epoch 54/100\n",
            "6/6 [==============================] - 0s 4ms/step - loss: 1.9170\n",
            "Epoch 55/100\n",
            "6/6 [==============================] - 0s 6ms/step - loss: 1.8767\n",
            "Epoch 56/100\n",
            "6/6 [==============================] - 0s 4ms/step - loss: 1.8131\n",
            "Epoch 57/100\n",
            "6/6 [==============================] - 0s 4ms/step - loss: 1.7706\n",
            "Epoch 58/100\n",
            "6/6 [==============================] - 0s 5ms/step - loss: 1.7331\n",
            "Epoch 59/100\n",
            "6/6 [==============================] - 0s 5ms/step - loss: 1.6912\n",
            "Epoch 60/100\n",
            "6/6 [==============================] - 0s 5ms/step - loss: 1.6571\n",
            "Epoch 61/100\n",
            "6/6 [==============================] - 0s 6ms/step - loss: 1.6234\n",
            "Epoch 62/100\n",
            "6/6 [==============================] - 0s 5ms/step - loss: 1.5904\n",
            "Epoch 63/100\n",
            "6/6 [==============================] - 0s 4ms/step - loss: 1.5583\n",
            "Epoch 64/100\n",
            "6/6 [==============================] - 0s 6ms/step - loss: 1.5316\n",
            "Epoch 65/100\n",
            "6/6 [==============================] - 0s 5ms/step - loss: 1.4845\n",
            "Epoch 66/100\n",
            "6/6 [==============================] - 0s 4ms/step - loss: 1.4541\n",
            "Epoch 67/100\n",
            "6/6 [==============================] - 0s 4ms/step - loss: 1.4251\n",
            "Epoch 68/100\n",
            "6/6 [==============================] - 0s 4ms/step - loss: 1.3891\n",
            "Epoch 69/100\n",
            "6/6 [==============================] - 0s 4ms/step - loss: 1.3626\n",
            "Epoch 70/100\n",
            "6/6 [==============================] - 0s 6ms/step - loss: 1.3239\n",
            "Epoch 71/100\n",
            "6/6 [==============================] - 0s 4ms/step - loss: 1.2870\n",
            "Epoch 72/100\n",
            "6/6 [==============================] - 0s 4ms/step - loss: 1.2654\n",
            "Epoch 73/100\n",
            "6/6 [==============================] - 0s 5ms/step - loss: 1.2432\n",
            "Epoch 74/100\n",
            "6/6 [==============================] - 0s 4ms/step - loss: 1.2184\n",
            "Epoch 75/100\n",
            "6/6 [==============================] - 0s 4ms/step - loss: 1.1975\n",
            "Epoch 76/100\n",
            "6/6 [==============================] - 0s 4ms/step - loss: 1.1752\n",
            "Epoch 77/100\n",
            "6/6 [==============================] - 0s 4ms/step - loss: 1.1549\n",
            "Epoch 78/100\n",
            "6/6 [==============================] - 0s 4ms/step - loss: 1.1262\n",
            "Epoch 79/100\n",
            "6/6 [==============================] - 0s 4ms/step - loss: 1.1065\n",
            "Epoch 80/100\n",
            "6/6 [==============================] - 0s 4ms/step - loss: 1.0855\n",
            "Epoch 81/100\n",
            "6/6 [==============================] - 0s 4ms/step - loss: 1.0681\n",
            "Epoch 82/100\n",
            "6/6 [==============================] - 0s 8ms/step - loss: 1.0504\n",
            "Epoch 83/100\n",
            "6/6 [==============================] - 0s 4ms/step - loss: 1.0307\n",
            "Epoch 84/100\n",
            "6/6 [==============================] - 0s 3ms/step - loss: 1.0135\n",
            "Epoch 85/100\n",
            "6/6 [==============================] - 0s 6ms/step - loss: 0.9946\n",
            "Epoch 86/100\n",
            "6/6 [==============================] - 0s 5ms/step - loss: 0.9797\n",
            "Epoch 87/100\n",
            "6/6 [==============================] - 0s 4ms/step - loss: 0.9627\n",
            "Epoch 88/100\n",
            "6/6 [==============================] - 0s 4ms/step - loss: 0.9488\n",
            "Epoch 89/100\n",
            "6/6 [==============================] - 0s 4ms/step - loss: 0.9332\n",
            "Epoch 90/100\n",
            "6/6 [==============================] - 0s 5ms/step - loss: 0.9187\n",
            "Epoch 91/100\n",
            "6/6 [==============================] - 0s 4ms/step - loss: 0.8961\n",
            "Epoch 92/100\n",
            "6/6 [==============================] - 0s 4ms/step - loss: 0.8759\n",
            "Epoch 93/100\n",
            "6/6 [==============================] - 0s 7ms/step - loss: 0.8596\n",
            "Epoch 94/100\n",
            "6/6 [==============================] - 0s 6ms/step - loss: 0.8475\n",
            "Epoch 95/100\n",
            "6/6 [==============================] - 0s 5ms/step - loss: 0.8321\n",
            "Epoch 96/100\n",
            "6/6 [==============================] - 0s 5ms/step - loss: 0.8196\n",
            "Epoch 97/100\n",
            "6/6 [==============================] - 0s 6ms/step - loss: 0.8067\n",
            "Epoch 98/100\n",
            "6/6 [==============================] - 0s 5ms/step - loss: 0.7924\n",
            "Epoch 99/100\n",
            "6/6 [==============================] - 0s 10ms/step - loss: 0.7810\n",
            "Epoch 100/100\n",
            "6/6 [==============================] - 0s 9ms/step - loss: 0.7641\n",
            "Model Number: 91 with model GLS in generation 1 of 5\n",
            "Model Number: 92 with model GLS in generation 1 of 5\n",
            "Model Number: 93 with model GLS in generation 1 of 5\n",
            "Model Number: 94 with model UnobservedComponents in generation 1 of 5\n",
            "Template Eval Error: ValueError('Unable to coerce to Series, length must be 1: given 190') in model 94: UnobservedComponents\n",
            "Model Number: 95 with model UnobservedComponents in generation 1 of 5\n",
            "Template Eval Error: ValueError('Unable to coerce to Series, length must be 1: given 190') in model 95: UnobservedComponents\n",
            "Model Number: 96 with model UnobservedComponents in generation 1 of 5\n",
            "Model Number: 97 with model SeasonalNaive in generation 1 of 5\n",
            "Model Number: 98 with model SeasonalNaive in generation 1 of 5\n",
            "Model Number: 99 with model SeasonalNaive in generation 1 of 5\n",
            "Model Number: 100 with model SeasonalNaive in generation 1 of 5\n",
            "Model Number: 101 with model ETS in generation 1 of 5\n",
            "Model Number: 102 with model ETS in generation 1 of 5\n",
            "Model Number: 103 with model ETS in generation 1 of 5\n",
            "Model Number: 104 with model ETS in generation 1 of 5\n",
            "Model Number: 105 with model ZeroesNaive in generation 1 of 5\n",
            "Model Number: 106 with model ZeroesNaive in generation 1 of 5\n",
            "Model Number: 107 with model ZeroesNaive in generation 1 of 5\n",
            "Model Number: 108 with model AverageValueNaive in generation 1 of 5\n",
            "Model Number: 109 with model AverageValueNaive in generation 1 of 5\n",
            "Model Number: 110 with model AverageValueNaive in generation 1 of 5\n",
            "Model Number: 111 with model DatepartRegression in generation 1 of 5\n",
            "Model Number: 112 with model DatepartRegression in generation 1 of 5\n",
            "Model Number: 113 with model DatepartRegression in generation 1 of 5\n"
          ],
          "name": "stdout"
        },
        {
          "output_type": "stream",
          "text": [
            "INFO:fbprophet:Disabling yearly seasonality. Run prophet with yearly_seasonality=True to override this.\n",
            "INFO:fbprophet:Disabling daily seasonality. Run prophet with daily_seasonality=True to override this.\n"
          ],
          "name": "stderr"
        },
        {
          "output_type": "stream",
          "text": [
            "Model Number: 114 with model FBProphet in generation 1 of 5\n"
          ],
          "name": "stdout"
        },
        {
          "output_type": "stream",
          "text": [
            "INFO:fbprophet:Disabling yearly seasonality. Run prophet with yearly_seasonality=True to override this.\n",
            "INFO:fbprophet:Disabling daily seasonality. Run prophet with daily_seasonality=True to override this.\n"
          ],
          "name": "stderr"
        },
        {
          "output_type": "stream",
          "text": [
            "Model Number: 115 with model FBProphet in generation 1 of 5\n"
          ],
          "name": "stdout"
        },
        {
          "output_type": "stream",
          "text": [
            "INFO:fbprophet:Disabling yearly seasonality. Run prophet with yearly_seasonality=True to override this.\n",
            "INFO:fbprophet:Disabling daily seasonality. Run prophet with daily_seasonality=True to override this.\n"
          ],
          "name": "stderr"
        },
        {
          "output_type": "stream",
          "text": [
            "Model Number: 116 with model FBProphet in generation 1 of 5\n"
          ],
          "name": "stdout"
        },
        {
          "output_type": "stream",
          "text": [
            "INFO:fbprophet:Disabling yearly seasonality. Run prophet with yearly_seasonality=True to override this.\n",
            "INFO:fbprophet:Disabling daily seasonality. Run prophet with daily_seasonality=True to override this.\n"
          ],
          "name": "stderr"
        },
        {
          "output_type": "stream",
          "text": [
            "Model Number: 117 with model FBProphet in generation 1 of 5\n",
            "Model Number: 118 with model GluonTS in generation 1 of 5\n",
            "Template Eval Error: ImportError('GluonTS installation not found or installed version is incompatible with AutoTS.') in model 118: GluonTS\n",
            "Model Number: 119 with model GluonTS in generation 1 of 5\n",
            "Template Eval Error: ImportError('GluonTS installation not found or installed version is incompatible with AutoTS.') in model 119: GluonTS\n",
            "Model Number: 120 with model GluonTS in generation 1 of 5\n",
            "Template Eval Error: ImportError('GluonTS installation not found or installed version is incompatible with AutoTS.') in model 120: GluonTS\n",
            "Model Number: 121 with model GluonTS in generation 1 of 5\n",
            "Template Eval Error: ImportError('GluonTS installation not found or installed version is incompatible with AutoTS.') in model 121: GluonTS\n",
            "Model Number: 122 with model VAR in generation 1 of 5\n",
            "Template Eval Error: ValueError('Only gave one variable to VAR') in model 122: VAR\n",
            "Model Number: 123 with model VAR in generation 1 of 5\n",
            "Template Eval Error: ValueError('Only gave one variable to VAR') in model 123: VAR\n",
            "Model Number: 124 with model VAR in generation 1 of 5\n",
            "Template Eval Error: ValueError('Only gave one variable to VAR') in model 124: VAR\n",
            "Model Number: 125 with model VAR in generation 1 of 5\n",
            "Template Eval Error: ValueError('Only gave one variable to VAR') in model 125: VAR\n",
            "Model Number: 126 with model VECM in generation 1 of 5\n",
            "Template Eval Error: ValueError('Only gave one variable to VECM') in model 126: VECM\n",
            "Model Number: 127 with model VECM in generation 1 of 5\n",
            "Template Eval Error: ValueError('Only gave one variable to VECM') in model 127: VECM\n",
            "Model Number: 128 with model VECM in generation 1 of 5\n",
            "Template Eval Error: ValueError('Only gave one variable to VECM') in model 128: VECM\n",
            "Model Number: 129 with model VECM in generation 1 of 5\n",
            "Template Eval Error: ValueError('Unable to coerce to Series, length must be 1: given 190') in model 129: VECM\n",
            "Model Number: 130 with model RollingRegression in generation 1 of 5\n",
            "Template Eval Error: ValueError(\"Input contains NaN, infinity or a value too large for dtype('float32').\") in model 130: RollingRegression\n",
            "Model Number: 131 with model RollingRegression in generation 1 of 5\n",
            "Model Number: 132 with model RollingRegression in generation 1 of 5\n",
            "Template Eval Error: ValueError('Unable to coerce to Series, length must be 1: given 190') in model 132: RollingRegression\n",
            "Model Number: 133 with model RollingRegression in generation 1 of 5\n",
            "New Generation: 2 of 5\n",
            "Model Number: 134 with model LastValueNaive in generation 2 of 5\n",
            "Model Number: 135 with model LastValueNaive in generation 2 of 5\n",
            "Model Number: 136 with model LastValueNaive in generation 2 of 5\n"
          ],
          "name": "stdout"
        },
        {
          "output_type": "stream",
          "text": [
            "/usr/local/lib/python3.7/dist-packages/autots/models/sklearn.py:376: VisibleDeprecationWarning:\n",
            "\n",
            "Creating an ndarray from ragged nested sequences (which is a list-or-tuple of lists-or-tuples-or ndarrays with different lengths or shapes) is deprecated. If you meant to do this, you must specify 'dtype=object' when creating the ndarray\n",
            "\n",
            "/usr/local/lib/python3.7/dist-packages/scipy/optimize/minpack.py:808: OptimizeWarning:\n",
            "\n",
            "Covariance of the parameters could not be estimated\n",
            "\n",
            "/usr/local/lib/python3.7/dist-packages/scipy/optimize/minpack.py:808: OptimizeWarning:\n",
            "\n",
            "Covariance of the parameters could not be estimated\n",
            "\n"
          ],
          "name": "stderr"
        },
        {
          "output_type": "stream",
          "text": [
            "Model Number: 137 with model GLM in generation 2 of 5\n",
            "Model Number: 138 with model GLM in generation 2 of 5\n",
            "Model Number: 139 with model GLM in generation 2 of 5\n",
            "Model Number: 140 with model WindowRegression in generation 2 of 5\n",
            "Template Eval Error: ValueError(\"Input contains NaN, infinity or a value too large for dtype('float64').\") in model 140: WindowRegression\n",
            "Model Number: 141 with model WindowRegression in generation 2 of 5\n",
            "Model Number: 142 with model WindowRegression in generation 2 of 5\n",
            "Template Eval Error: ValueError(\"Input contains NaN, infinity or a value too large for dtype('float64').\") in model 142: WindowRegression\n",
            "Model Number: 143 with model WindowRegression in generation 2 of 5\n"
          ],
          "name": "stdout"
        },
        {
          "output_type": "stream",
          "text": [
            "/usr/local/lib/python3.7/dist-packages/sklearn/neural_network/_multilayer_perceptron.py:470: ConvergenceWarning:\n",
            "\n",
            "lbfgs failed to converge (status=1):\n",
            "STOP: TOTAL NO. of ITERATIONS REACHED LIMIT.\n",
            "\n",
            "Increase the number of iterations (max_iter) or scale the data as shown in:\n",
            "    https://scikit-learn.org/stable/modules/preprocessing.html\n",
            "\n"
          ],
          "name": "stderr"
        },
        {
          "output_type": "stream",
          "text": [
            "Model Number: 144 with model GLS in generation 2 of 5\n",
            "Template Eval Error: ValueError('Unable to coerce to Series, length must be 1: given 190') in model 144: GLS\n",
            "Model Number: 145 with model GLS in generation 2 of 5\n",
            "Model Number: 146 with model GLS in generation 2 of 5\n",
            "Model Number: 147 with model UnobservedComponents in generation 2 of 5\n",
            "Model Number: 148 with model UnobservedComponents in generation 2 of 5\n",
            "Model Number: 149 with model UnobservedComponents in generation 2 of 5\n",
            "Model Number: 150 with model SeasonalNaive in generation 2 of 5\n",
            "Model Number: 151 with model SeasonalNaive in generation 2 of 5\n",
            "Model Number: 152 with model SeasonalNaive in generation 2 of 5\n",
            "Model Number: 153 with model SeasonalNaive in generation 2 of 5\n",
            "Model Number: 154 with model ZeroesNaive in generation 2 of 5\n",
            "Model Number: 155 with model ZeroesNaive in generation 2 of 5\n",
            "Model Number: 156 with model ZeroesNaive in generation 2 of 5\n",
            "Model Number: 157 with model ETS in generation 2 of 5\n",
            "Model Number: 158 with model ETS in generation 2 of 5\n",
            "Model Number: 159 with model ETS in generation 2 of 5\n",
            "Model Number: 160 with model ETS in generation 2 of 5\n",
            "Model Number: 161 with model AverageValueNaive in generation 2 of 5\n",
            "Model Number: 162 with model AverageValueNaive in generation 2 of 5\n",
            "Model Number: 163 with model AverageValueNaive in generation 2 of 5\n",
            "Model Number: 164 with model DatepartRegression in generation 2 of 5\n",
            "Model Number: 165 with model DatepartRegression in generation 2 of 5\n"
          ],
          "name": "stdout"
        },
        {
          "output_type": "stream",
          "text": [
            "/usr/local/lib/python3.7/dist-packages/sklearn/neural_network/_multilayer_perceptron.py:1342: DataConversionWarning:\n",
            "\n",
            "A column-vector y was passed when a 1d array was expected. Please change the shape of y to (n_samples, ), for example using ravel().\n",
            "\n"
          ],
          "name": "stderr"
        },
        {
          "output_type": "stream",
          "text": [
            "Model Number: 166 with model DatepartRegression in generation 2 of 5\n",
            "Model Number: 167 with model RollingRegression in generation 2 of 5\n",
            "Template Eval Error: ValueError('Unable to coerce to Series, length must be 1: given 190') in model 167: RollingRegression\n",
            "Model Number: 168 with model RollingRegression in generation 2 of 5\n"
          ],
          "name": "stdout"
        },
        {
          "output_type": "stream",
          "text": [
            "/usr/local/lib/python3.7/dist-packages/sklearn/neural_network/_multilayer_perceptron.py:1342: DataConversionWarning:\n",
            "\n",
            "A column-vector y was passed when a 1d array was expected. Please change the shape of y to (n_samples, ), for example using ravel().\n",
            "\n"
          ],
          "name": "stderr"
        },
        {
          "output_type": "stream",
          "text": [
            "Template Eval Error: LightGBMError('Check failed: config->bagging_freq > 0 && config->bagging_fraction < 1.0f && config->bagging_fraction > 0.0f at /__w/1/s/python-package/compile/src/boosting/rf.hpp, line 28 .\\n') in model 168: RollingRegression\n",
            "Model Number: 169 with model RollingRegression in generation 2 of 5\n"
          ],
          "name": "stdout"
        },
        {
          "output_type": "stream",
          "text": [
            "INFO:fbprophet:Disabling yearly seasonality. Run prophet with yearly_seasonality=True to override this.\n",
            "INFO:fbprophet:Disabling daily seasonality. Run prophet with daily_seasonality=True to override this.\n"
          ],
          "name": "stderr"
        },
        {
          "output_type": "stream",
          "text": [
            "Model Number: 170 with model RollingRegression in generation 2 of 5\n",
            "Template Eval Error: ValueError('Unable to coerce to Series, length must be 1: given 190') in model 170: RollingRegression\n",
            "Model Number: 171 with model FBProphet in generation 2 of 5\n"
          ],
          "name": "stdout"
        },
        {
          "output_type": "stream",
          "text": [
            "INFO:fbprophet:Disabling yearly seasonality. Run prophet with yearly_seasonality=True to override this.\n",
            "INFO:fbprophet:Disabling daily seasonality. Run prophet with daily_seasonality=True to override this.\n"
          ],
          "name": "stderr"
        },
        {
          "output_type": "stream",
          "text": [
            "Model Number: 172 with model FBProphet in generation 2 of 5\n"
          ],
          "name": "stdout"
        },
        {
          "output_type": "stream",
          "text": [
            "INFO:fbprophet:Disabling yearly seasonality. Run prophet with yearly_seasonality=True to override this.\n",
            "INFO:fbprophet:Disabling daily seasonality. Run prophet with daily_seasonality=True to override this.\n"
          ],
          "name": "stderr"
        },
        {
          "output_type": "stream",
          "text": [
            "Model Number: 173 with model FBProphet in generation 2 of 5\n"
          ],
          "name": "stdout"
        },
        {
          "output_type": "stream",
          "text": [
            "INFO:fbprophet:Disabling yearly seasonality. Run prophet with yearly_seasonality=True to override this.\n",
            "INFO:fbprophet:Disabling daily seasonality. Run prophet with daily_seasonality=True to override this.\n"
          ],
          "name": "stderr"
        },
        {
          "output_type": "stream",
          "text": [
            "Model Number: 174 with model FBProphet in generation 2 of 5\n",
            "Model Number: 175 with model GluonTS in generation 2 of 5\n",
            "Template Eval Error: ImportError('GluonTS installation not found or installed version is incompatible with AutoTS.') in model 175: GluonTS\n",
            "Model Number: 176 with model GluonTS in generation 2 of 5\n",
            "Template Eval Error: ImportError('GluonTS installation not found or installed version is incompatible with AutoTS.') in model 176: GluonTS\n",
            "Model Number: 177 with model GluonTS in generation 2 of 5\n",
            "Template Eval Error: ImportError('GluonTS installation not found or installed version is incompatible with AutoTS.') in model 177: GluonTS\n",
            "Model Number: 178 with model GluonTS in generation 2 of 5\n",
            "Template Eval Error: ImportError('GluonTS installation not found or installed version is incompatible with AutoTS.') in model 178: GluonTS\n",
            "Model Number: 179 with model VAR in generation 2 of 5\n",
            "Template Eval Error: ValueError('Only gave one variable to VAR') in model 179: VAR\n",
            "Model Number: 180 with model VAR in generation 2 of 5\n",
            "Template Eval Error: ValueError('Only gave one variable to VAR') in model 180: VAR\n",
            "Model Number: 181 with model VAR in generation 2 of 5\n",
            "Template Eval Error: ValueError('Only gave one variable to VAR') in model 181: VAR\n",
            "Model Number: 182 with model VAR in generation 2 of 5\n",
            "Template Eval Error: ValueError('Only gave one variable to VAR') in model 182: VAR\n",
            "Model Number: 183 with model VECM in generation 2 of 5\n",
            "Template Eval Error: ValueError('Unable to coerce to Series, length must be 1: given 190') in model 183: VECM\n",
            "Model Number: 184 with model VECM in generation 2 of 5\n",
            "Template Eval Error: ValueError('Only gave one variable to VECM') in model 184: VECM\n",
            "Model Number: 185 with model VECM in generation 2 of 5\n",
            "Template Eval Error: ValueError('Only gave one variable to VECM') in model 185: VECM\n",
            "Model Number: 186 with model VECM in generation 2 of 5\n",
            "Template Eval Error: ValueError('Only gave one variable to VECM') in model 186: VECM\n",
            "New Generation: 3 of 5\n",
            "Model Number: 187 with model LastValueNaive in generation 3 of 5\n",
            "Model Number: 188 with model LastValueNaive in generation 3 of 5\n"
          ],
          "name": "stdout"
        },
        {
          "output_type": "stream",
          "text": [
            "/usr/local/lib/python3.7/dist-packages/autots/models/sklearn.py:376: VisibleDeprecationWarning:\n",
            "\n",
            "Creating an ndarray from ragged nested sequences (which is a list-or-tuple of lists-or-tuples-or ndarrays with different lengths or shapes) is deprecated. If you meant to do this, you must specify 'dtype=object' when creating the ndarray\n",
            "\n"
          ],
          "name": "stderr"
        },
        {
          "output_type": "stream",
          "text": [
            "Model Number: 189 with model WindowRegression in generation 3 of 5\n",
            "Template Eval Error: LightGBMError('[gamma]: at least one target label is negative') in model 189: WindowRegression\n",
            "Model Number: 190 with model WindowRegression in generation 3 of 5\n"
          ],
          "name": "stdout"
        },
        {
          "output_type": "stream",
          "text": [
            "/usr/local/lib/python3.7/dist-packages/sklearn/neural_network/_multilayer_perceptron.py:1342: DataConversionWarning:\n",
            "\n",
            "A column-vector y was passed when a 1d array was expected. Please change the shape of y to (n_samples, ), for example using ravel().\n",
            "\n",
            "/usr/local/lib/python3.7/dist-packages/sklearn/neural_network/_multilayer_perceptron.py:470: ConvergenceWarning:\n",
            "\n",
            "lbfgs failed to converge (status=1):\n",
            "STOP: TOTAL NO. of ITERATIONS REACHED LIMIT.\n",
            "\n",
            "Increase the number of iterations (max_iter) or scale the data as shown in:\n",
            "    https://scikit-learn.org/stable/modules/preprocessing.html\n",
            "\n"
          ],
          "name": "stderr"
        },
        {
          "output_type": "stream",
          "text": [
            "Model Number: 191 with model WindowRegression in generation 3 of 5\n",
            "Model Number: 192 with model WindowRegression in generation 3 of 5\n",
            "Template Eval Error: LightGBMError('[gamma]: at least one target label is negative') in model 192: WindowRegression\n",
            "Model Number: 193 with model UnobservedComponents in generation 3 of 5\n",
            "Model Number: 194 with model UnobservedComponents in generation 3 of 5\n",
            "Model Number: 195 with model UnobservedComponents in generation 3 of 5\n",
            "Model Number: 196 with model GLM in generation 3 of 5\n",
            "Template Eval Error: PerfectSeparationError('Perfect separation detected, results not available') in model 196: GLM\n",
            "Model Number: 197 with model GLM in generation 3 of 5\n",
            "Model Number: 198 with model GLM in generation 3 of 5\n",
            "Template Eval Error: ValueError('The first guess on the deviance function returned a nan.  This could be a boundary  problem and should be reported.') in model 198: GLM\n",
            "Model Number: 199 with model GLM in generation 3 of 5\n",
            "Model Number: 200 with model RollingRegression in generation 3 of 5\n"
          ],
          "name": "stdout"
        },
        {
          "output_type": "stream",
          "text": [
            "/usr/local/lib/python3.7/dist-packages/statsmodels/genmod/families/family.py:179: RuntimeWarning:\n",
            "\n",
            "invalid value encountered in true_divide\n",
            "\n"
          ],
          "name": "stderr"
        },
        {
          "output_type": "stream",
          "text": [
            "Model Number: 201 with model RollingRegression in generation 3 of 5\n",
            "Model Number: 202 with model RollingRegression in generation 3 of 5\n",
            "Model Number: 203 with model RollingRegression in generation 3 of 5\n",
            "Model Number: 204 with model SeasonalNaive in generation 3 of 5\n",
            "Model Number: 205 with model SeasonalNaive in generation 3 of 5\n",
            "Model Number: 206 with model SeasonalNaive in generation 3 of 5\n",
            "Model Number: 207 with model SeasonalNaive in generation 3 of 5\n",
            "Model Number: 208 with model GLS in generation 3 of 5\n",
            "Model Number: 209 with model GLS in generation 3 of 5\n",
            "Model Number: 210 with model GLS in generation 3 of 5\n",
            "Model Number: 211 with model ZeroesNaive in generation 3 of 5\n",
            "Model Number: 212 with model ZeroesNaive in generation 3 of 5\n",
            "Model Number: 213 with model ZeroesNaive in generation 3 of 5\n",
            "Model Number: 214 with model ETS in generation 3 of 5\n",
            "Model Number: 215 with model ETS in generation 3 of 5\n",
            "Model Number: 216 with model ETS in generation 3 of 5\n",
            "Model Number: 217 with model ETS in generation 3 of 5\n",
            "Model Number: 218 with model AverageValueNaive in generation 3 of 5\n",
            "Model Number: 219 with model AverageValueNaive in generation 3 of 5\n",
            "Model Number: 220 with model AverageValueNaive in generation 3 of 5\n",
            "Model Number: 221 with model DatepartRegression in generation 3 of 5\n"
          ],
          "name": "stdout"
        },
        {
          "output_type": "stream",
          "text": [
            "/usr/local/lib/python3.7/dist-packages/autots/models/sklearn.py:1499: DataConversionWarning:\n",
            "\n",
            "A column-vector y was passed when a 1d array was expected. Please change the shape of y to (n_samples,), for example using ravel().\n",
            "\n",
            "[Parallel(n_jobs=1)]: Using backend SequentialBackend with 1 concurrent workers.\n",
            "[Parallel(n_jobs=1)]: Done 1000 out of 1000 | elapsed:    1.3s finished\n",
            "[Parallel(n_jobs=1)]: Using backend SequentialBackend with 1 concurrent workers.\n",
            "[Parallel(n_jobs=1)]: Done 1000 out of 1000 | elapsed:    0.1s finished\n"
          ],
          "name": "stderr"
        },
        {
          "output_type": "stream",
          "text": [
            "Model Number: 222 with model DatepartRegression in generation 3 of 5\n",
            "Model Number: 223 with model DatepartRegression in generation 3 of 5\n"
          ],
          "name": "stdout"
        },
        {
          "output_type": "stream",
          "text": [
            "/usr/local/lib/python3.7/dist-packages/sklearn/neural_network/_multilayer_perceptron.py:1342: DataConversionWarning:\n",
            "\n",
            "A column-vector y was passed when a 1d array was expected. Please change the shape of y to (n_samples, ), for example using ravel().\n",
            "\n",
            "INFO:fbprophet:Disabling yearly seasonality. Run prophet with yearly_seasonality=True to override this.\n",
            "INFO:fbprophet:Disabling daily seasonality. Run prophet with daily_seasonality=True to override this.\n"
          ],
          "name": "stderr"
        },
        {
          "output_type": "stream",
          "text": [
            "Model Number: 224 with model FBProphet in generation 3 of 5\n"
          ],
          "name": "stdout"
        },
        {
          "output_type": "stream",
          "text": [
            "INFO:fbprophet:Disabling yearly seasonality. Run prophet with yearly_seasonality=True to override this.\n",
            "INFO:fbprophet:Disabling daily seasonality. Run prophet with daily_seasonality=True to override this.\n"
          ],
          "name": "stderr"
        },
        {
          "output_type": "stream",
          "text": [
            "Model Number: 225 with model FBProphet in generation 3 of 5\n"
          ],
          "name": "stdout"
        },
        {
          "output_type": "stream",
          "text": [
            "INFO:fbprophet:Disabling yearly seasonality. Run prophet with yearly_seasonality=True to override this.\n",
            "INFO:fbprophet:Disabling daily seasonality. Run prophet with daily_seasonality=True to override this.\n"
          ],
          "name": "stderr"
        },
        {
          "output_type": "stream",
          "text": [
            "Model Number: 226 with model FBProphet in generation 3 of 5\n"
          ],
          "name": "stdout"
        },
        {
          "output_type": "stream",
          "text": [
            "INFO:fbprophet:Disabling yearly seasonality. Run prophet with yearly_seasonality=True to override this.\n",
            "INFO:fbprophet:Disabling daily seasonality. Run prophet with daily_seasonality=True to override this.\n"
          ],
          "name": "stderr"
        },
        {
          "output_type": "stream",
          "text": [
            "Model Number: 227 with model FBProphet in generation 3 of 5\n",
            "Model Number: 228 with model GluonTS in generation 3 of 5\n",
            "Template Eval Error: ImportError('GluonTS installation not found or installed version is incompatible with AutoTS.') in model 228: GluonTS\n",
            "Model Number: 229 with model GluonTS in generation 3 of 5\n",
            "Template Eval Error: ValueError('Unable to coerce to Series, length must be 1: given 190') in model 229: GluonTS\n",
            "Model Number: 230 with model GluonTS in generation 3 of 5\n",
            "Template Eval Error: ImportError('GluonTS installation not found or installed version is incompatible with AutoTS.') in model 230: GluonTS\n",
            "Model Number: 231 with model GluonTS in generation 3 of 5\n",
            "Template Eval Error: ValueError('Unable to coerce to Series, length must be 1: given 190') in model 231: GluonTS\n",
            "Model Number: 232 with model VAR in generation 3 of 5\n",
            "Template Eval Error: ValueError('Only gave one variable to VAR') in model 232: VAR\n",
            "Model Number: 233 with model VAR in generation 3 of 5\n",
            "Template Eval Error: ValueError('Only gave one variable to VAR') in model 233: VAR\n",
            "Model Number: 234 with model VAR in generation 3 of 5\n",
            "Template Eval Error: ValueError('Only gave one variable to VAR') in model 234: VAR\n",
            "Model Number: 235 with model VECM in generation 3 of 5\n",
            "Template Eval Error: ValueError('Only gave one variable to VECM') in model 235: VECM\n",
            "Model Number: 236 with model VECM in generation 3 of 5\n",
            "Template Eval Error: ValueError('Only gave one variable to VECM') in model 236: VECM\n",
            "Model Number: 237 with model VECM in generation 3 of 5\n",
            "Template Eval Error: ValueError('Only gave one variable to VECM') in model 237: VECM\n",
            "Model Number: 238 with model VECM in generation 3 of 5\n",
            "Template Eval Error: ValueError('Only gave one variable to VECM') in model 238: VECM\n",
            "New Generation: 4 of 5\n",
            "Model Number: 239 with model LastValueNaive in generation 4 of 5\n",
            "Model Number: 240 with model LastValueNaive in generation 4 of 5\n",
            "Model Number: 241 with model LastValueNaive in generation 4 of 5\n"
          ],
          "name": "stdout"
        },
        {
          "output_type": "stream",
          "text": [
            "/usr/local/lib/python3.7/dist-packages/autots/models/sklearn.py:376: VisibleDeprecationWarning:\n",
            "\n",
            "Creating an ndarray from ragged nested sequences (which is a list-or-tuple of lists-or-tuples-or ndarrays with different lengths or shapes) is deprecated. If you meant to do this, you must specify 'dtype=object' when creating the ndarray\n",
            "\n"
          ],
          "name": "stderr"
        },
        {
          "output_type": "stream",
          "text": [
            "Model Number: 242 with model WindowRegression in generation 4 of 5\n"
          ],
          "name": "stdout"
        },
        {
          "output_type": "stream",
          "text": [
            "/usr/local/lib/python3.7/dist-packages/sklearn/neural_network/_multilayer_perceptron.py:470: ConvergenceWarning:\n",
            "\n",
            "lbfgs failed to converge (status=1):\n",
            "STOP: TOTAL NO. of ITERATIONS REACHED LIMIT.\n",
            "\n",
            "Increase the number of iterations (max_iter) or scale the data as shown in:\n",
            "    https://scikit-learn.org/stable/modules/preprocessing.html\n",
            "\n"
          ],
          "name": "stderr"
        },
        {
          "output_type": "stream",
          "text": [
            "Model Number: 243 with model WindowRegression in generation 4 of 5\n",
            "Template Eval Error: ValueError(\"Input contains NaN, infinity or a value too large for dtype('float64').\") in model 243: WindowRegression\n",
            "Model Number: 244 with model WindowRegression in generation 4 of 5\n",
            "Template Eval Error: ValueError(\"Input contains NaN, infinity or a value too large for dtype('float64').\") in model 244: WindowRegression\n",
            "Model Number: 245 with model WindowRegression in generation 4 of 5\n",
            "Template Eval Error: ValueError(\"Input contains NaN, infinity or a value too large for dtype('float64').\") in model 245: WindowRegression\n",
            "Model Number: 246 with model UnobservedComponents in generation 4 of 5\n",
            "Model Number: 247 with model UnobservedComponents in generation 4 of 5\n",
            "Model Number: 248 with model UnobservedComponents in generation 4 of 5\n",
            "Model Number: 249 with model ETS in generation 4 of 5\n",
            "Model Number: 250 with model ETS in generation 4 of 5\n",
            "Model Number: 251 with model ETS in generation 4 of 5\n",
            "Model Number: 252 with model RollingRegression in generation 4 of 5\n",
            "Model Number: 253 with model RollingRegression in generation 4 of 5\n",
            "Model Number: 254 with model RollingRegression in generation 4 of 5\n",
            "Model Number: 255 with model RollingRegression in generation 4 of 5\n",
            "Model Number: 256 with model GLM in generation 4 of 5\n",
            "Template Eval Error: ValueError('Unable to coerce to Series, length must be 1: given 190') in model 256: GLM\n",
            "Model Number: 257 with model GLM in generation 4 of 5\n",
            "Model Number: 258 with model GLM in generation 4 of 5\n",
            "Template Eval Error: ValueError('Unable to coerce to Series, length must be 1: given 190') in model 258: GLM\n",
            "Model Number: 259 with model GLM in generation 4 of 5\n",
            "Model Number: 260 with model SeasonalNaive in generation 4 of 5\n",
            "Model Number: 261 with model SeasonalNaive in generation 4 of 5\n",
            "Model Number: 262 with model SeasonalNaive in generation 4 of 5\n",
            "Model Number: 263 with model SeasonalNaive in generation 4 of 5\n",
            "Model Number: 264 with model GLS in generation 4 of 5\n",
            "Model Number: 265 with model GLS in generation 4 of 5\n",
            "Model Number: 266 with model ZeroesNaive in generation 4 of 5\n",
            "Model Number: 267 with model ZeroesNaive in generation 4 of 5\n",
            "Model Number: 268 with model ZeroesNaive in generation 4 of 5\n",
            "Model Number: 269 with model AverageValueNaive in generation 4 of 5\n",
            "Model Number: 270 with model AverageValueNaive in generation 4 of 5\n",
            "Model Number: 271 with model AverageValueNaive in generation 4 of 5\n",
            "Model Number: 272 with model DatepartRegression in generation 4 of 5\n"
          ],
          "name": "stdout"
        },
        {
          "output_type": "stream",
          "text": [
            "/usr/local/lib/python3.7/dist-packages/sklearn/neural_network/_multilayer_perceptron.py:1342: DataConversionWarning:\n",
            "\n",
            "A column-vector y was passed when a 1d array was expected. Please change the shape of y to (n_samples, ), for example using ravel().\n",
            "\n",
            "/usr/local/lib/python3.7/dist-packages/sklearn/neural_network/_multilayer_perceptron.py:470: ConvergenceWarning:\n",
            "\n",
            "lbfgs failed to converge (status=1):\n",
            "STOP: TOTAL NO. of ITERATIONS REACHED LIMIT.\n",
            "\n",
            "Increase the number of iterations (max_iter) or scale the data as shown in:\n",
            "    https://scikit-learn.org/stable/modules/preprocessing.html\n",
            "\n"
          ],
          "name": "stderr"
        },
        {
          "output_type": "stream",
          "text": [
            "Model Number: 273 with model DatepartRegression in generation 4 of 5\n",
            "Model Number: 274 with model DatepartRegression in generation 4 of 5\n"
          ],
          "name": "stdout"
        },
        {
          "output_type": "stream",
          "text": [
            "INFO:fbprophet:Disabling yearly seasonality. Run prophet with yearly_seasonality=True to override this.\n",
            "INFO:fbprophet:Disabling daily seasonality. Run prophet with daily_seasonality=True to override this.\n"
          ],
          "name": "stderr"
        },
        {
          "output_type": "stream",
          "text": [
            "Model Number: 275 with model FBProphet in generation 4 of 5\n"
          ],
          "name": "stdout"
        },
        {
          "output_type": "stream",
          "text": [
            "INFO:fbprophet:Disabling yearly seasonality. Run prophet with yearly_seasonality=True to override this.\n",
            "INFO:fbprophet:Disabling daily seasonality. Run prophet with daily_seasonality=True to override this.\n"
          ],
          "name": "stderr"
        },
        {
          "output_type": "stream",
          "text": [
            "Model Number: 276 with model FBProphet in generation 4 of 5\n"
          ],
          "name": "stdout"
        },
        {
          "output_type": "stream",
          "text": [
            "INFO:fbprophet:Disabling yearly seasonality. Run prophet with yearly_seasonality=True to override this.\n",
            "INFO:fbprophet:Disabling daily seasonality. Run prophet with daily_seasonality=True to override this.\n"
          ],
          "name": "stderr"
        },
        {
          "output_type": "stream",
          "text": [
            "Model Number: 277 with model FBProphet in generation 4 of 5\n"
          ],
          "name": "stdout"
        },
        {
          "output_type": "stream",
          "text": [
            "INFO:fbprophet:Disabling yearly seasonality. Run prophet with yearly_seasonality=True to override this.\n",
            "INFO:fbprophet:Disabling daily seasonality. Run prophet with daily_seasonality=True to override this.\n"
          ],
          "name": "stderr"
        },
        {
          "output_type": "stream",
          "text": [
            "Model Number: 278 with model FBProphet in generation 4 of 5\n",
            "Model Number: 279 with model GluonTS in generation 4 of 5\n",
            "Template Eval Error: ImportError('GluonTS installation not found or installed version is incompatible with AutoTS.') in model 279: GluonTS\n",
            "Model Number: 280 with model GluonTS in generation 4 of 5\n",
            "Template Eval Error: ImportError('GluonTS installation not found or installed version is incompatible with AutoTS.') in model 280: GluonTS\n",
            "Model Number: 281 with model GluonTS in generation 4 of 5\n",
            "Template Eval Error: ImportError('GluonTS installation not found or installed version is incompatible with AutoTS.') in model 281: GluonTS\n",
            "Model Number: 282 with model GluonTS in generation 4 of 5\n",
            "Template Eval Error: ImportError('GluonTS installation not found or installed version is incompatible with AutoTS.') in model 282: GluonTS\n",
            "Model Number: 283 with model VAR in generation 4 of 5\n",
            "Template Eval Error: ValueError('Only gave one variable to VAR') in model 283: VAR\n",
            "Model Number: 284 with model VAR in generation 4 of 5\n",
            "Template Eval Error: ValueError('Only gave one variable to VAR') in model 284: VAR\n",
            "Model Number: 285 with model VAR in generation 4 of 5\n",
            "Template Eval Error: ValueError('Only gave one variable to VAR') in model 285: VAR\n",
            "Model Number: 286 with model VAR in generation 4 of 5\n",
            "Template Eval Error: ValueError('Only gave one variable to VAR') in model 286: VAR\n",
            "Model Number: 287 with model VECM in generation 4 of 5\n",
            "Template Eval Error: ValueError('Unable to coerce to Series, length must be 1: given 190') in model 287: VECM\n",
            "Model Number: 288 with model VECM in generation 4 of 5\n",
            "Template Eval Error: ValueError('Only gave one variable to VECM') in model 288: VECM\n",
            "Model Number: 289 with model VECM in generation 4 of 5\n",
            "Template Eval Error: ValueError('Only gave one variable to VECM') in model 289: VECM\n",
            "Model Number: 290 with model VECM in generation 4 of 5\n",
            "Template Eval Error: ValueError('Only gave one variable to VECM') in model 290: VECM\n",
            "New Generation: 5 of 5\n",
            "Model Number: 291 with model LastValueNaive in generation 5 of 5\n",
            "Model Number: 292 with model LastValueNaive in generation 5 of 5\n",
            "Model Number: 293 with model WindowRegression in generation 5 of 5\n",
            "Template Eval Error: ValueError(\"Input contains NaN, infinity or a value too large for dtype('float32').\") in model 293: WindowRegression\n",
            "Model Number: 294 with model WindowRegression in generation 5 of 5\n",
            "Model Number: 295 with model WindowRegression in generation 5 of 5\n",
            "Template Eval Error: ValueError('at least one array or dtype is required') in model 295: WindowRegression\n",
            "Model Number: 296 with model WindowRegression in generation 5 of 5\n"
          ],
          "name": "stdout"
        },
        {
          "output_type": "stream",
          "text": [
            "/usr/local/lib/python3.7/dist-packages/sklearn/neural_network/_multilayer_perceptron.py:470: ConvergenceWarning:\n",
            "\n",
            "lbfgs failed to converge (status=1):\n",
            "STOP: TOTAL NO. of ITERATIONS REACHED LIMIT.\n",
            "\n",
            "Increase the number of iterations (max_iter) or scale the data as shown in:\n",
            "    https://scikit-learn.org/stable/modules/preprocessing.html\n",
            "\n"
          ],
          "name": "stderr"
        },
        {
          "output_type": "stream",
          "text": [
            "Model Number: 297 with model UnobservedComponents in generation 5 of 5\n",
            "Model Number: 298 with model UnobservedComponents in generation 5 of 5\n",
            "Model Number: 299 with model UnobservedComponents in generation 5 of 5\n",
            "Model Number: 300 with model ETS in generation 5 of 5\n",
            "Model Number: 301 with model ETS in generation 5 of 5\n",
            "Model Number: 302 with model ETS in generation 5 of 5\n",
            "Model Number: 303 with model ETS in generation 5 of 5\n",
            "Model Number: 304 with model RollingRegression in generation 5 of 5\n",
            "Model Number: 305 with model RollingRegression in generation 5 of 5\n",
            "Model Number: 306 with model RollingRegression in generation 5 of 5\n",
            "Model Number: 307 with model RollingRegression in generation 5 of 5\n"
          ],
          "name": "stdout"
        },
        {
          "output_type": "stream",
          "text": [
            "/usr/local/lib/python3.7/dist-packages/scipy/optimize/minpack.py:808: OptimizeWarning:\n",
            "\n",
            "Covariance of the parameters could not be estimated\n",
            "\n"
          ],
          "name": "stderr"
        },
        {
          "output_type": "stream",
          "text": [
            "Model Number: 308 with model GLM in generation 5 of 5\n",
            "Model Number: 309 with model GLM in generation 5 of 5\n"
          ],
          "name": "stdout"
        },
        {
          "output_type": "stream",
          "text": [
            "/usr/local/lib/python3.7/dist-packages/statsmodels/genmod/families/links.py:190: RuntimeWarning:\n",
            "\n",
            "overflow encountered in exp\n",
            "\n",
            "/usr/local/lib/python3.7/dist-packages/statsmodels/genmod/families/family.py:889: RuntimeWarning:\n",
            "\n",
            "divide by zero encountered in true_divide\n",
            "\n"
          ],
          "name": "stderr"
        },
        {
          "output_type": "stream",
          "text": [
            "Model Number: 310 with model GLM in generation 5 of 5\n",
            "Model Number: 311 with model GLM in generation 5 of 5\n",
            "Template Eval Error: ValueError('The first guess on the deviance function returned a nan.  This could be a boundary  problem and should be reported.') in model 311: GLM\n",
            "Model Number: 312 with model GLS in generation 5 of 5\n"
          ],
          "name": "stdout"
        },
        {
          "output_type": "stream",
          "text": [
            "/usr/local/lib/python3.7/dist-packages/statsmodels/genmod/families/family.py:1227: RuntimeWarning:\n",
            "\n",
            "invalid value encountered in log\n",
            "\n"
          ],
          "name": "stderr"
        },
        {
          "output_type": "stream",
          "text": [
            "Model Number: 313 with model GLS in generation 5 of 5\n",
            "Model Number: 314 with model SeasonalNaive in generation 5 of 5\n",
            "Model Number: 315 with model SeasonalNaive in generation 5 of 5\n",
            "Template Eval Error: ValueError('Unable to coerce to Series, length must be 1: given 190') in model 315: SeasonalNaive\n",
            "Model Number: 316 with model SeasonalNaive in generation 5 of 5\n",
            "Model Number: 317 with model SeasonalNaive in generation 5 of 5\n",
            "Template Eval Error: ValueError('Unable to coerce to Series, length must be 1: given 190') in model 317: SeasonalNaive\n",
            "Model Number: 318 with model AverageValueNaive in generation 5 of 5\n",
            "Model Number: 319 with model AverageValueNaive in generation 5 of 5\n",
            "Model Number: 320 with model AverageValueNaive in generation 5 of 5\n",
            "Model Number: 321 with model ZeroesNaive in generation 5 of 5\n",
            "Model Number: 322 with model ZeroesNaive in generation 5 of 5\n",
            "Model Number: 323 with model ZeroesNaive in generation 5 of 5\n",
            "Model Number: 324 with model DatepartRegression in generation 5 of 5\n"
          ],
          "name": "stdout"
        },
        {
          "output_type": "stream",
          "text": [
            "/usr/local/lib/python3.7/dist-packages/autots/models/sklearn.py:1499: DataConversionWarning:\n",
            "\n",
            "A column-vector y was passed when a 1d array was expected. Please change the shape of y to (n_samples,), for example using ravel().\n",
            "\n",
            "[Parallel(n_jobs=1)]: Using backend SequentialBackend with 1 concurrent workers.\n",
            "[Parallel(n_jobs=1)]: Done 1000 out of 1000 | elapsed:    0.9s finished\n",
            "[Parallel(n_jobs=1)]: Using backend SequentialBackend with 1 concurrent workers.\n",
            "[Parallel(n_jobs=1)]: Done 1000 out of 1000 | elapsed:    0.1s finished\n"
          ],
          "name": "stderr"
        },
        {
          "output_type": "stream",
          "text": [
            "Model Number: 325 with model DatepartRegression in generation 5 of 5\n",
            "Model Number: 326 with model DatepartRegression in generation 5 of 5\n"
          ],
          "name": "stdout"
        },
        {
          "output_type": "stream",
          "text": [
            "/usr/local/lib/python3.7/dist-packages/sklearn/linear_model/_coordinate_descent.py:1790: ConvergenceWarning:\n",
            "\n",
            "Objective did not converge. You might want to increase the number of iterations. Duality gap: 0.00021117597279829425, tolerance: 0.00020754927701706945\n",
            "\n",
            "INFO:fbprophet:Disabling yearly seasonality. Run prophet with yearly_seasonality=True to override this.\n",
            "INFO:fbprophet:Disabling daily seasonality. Run prophet with daily_seasonality=True to override this.\n"
          ],
          "name": "stderr"
        },
        {
          "output_type": "stream",
          "text": [
            "Model Number: 327 with model FBProphet in generation 5 of 5\n"
          ],
          "name": "stdout"
        },
        {
          "output_type": "stream",
          "text": [
            "INFO:fbprophet:Disabling yearly seasonality. Run prophet with yearly_seasonality=True to override this.\n",
            "INFO:fbprophet:Disabling daily seasonality. Run prophet with daily_seasonality=True to override this.\n"
          ],
          "name": "stderr"
        },
        {
          "output_type": "stream",
          "text": [
            "Model Number: 328 with model FBProphet in generation 5 of 5\n"
          ],
          "name": "stdout"
        },
        {
          "output_type": "stream",
          "text": [
            "INFO:fbprophet:Disabling yearly seasonality. Run prophet with yearly_seasonality=True to override this.\n",
            "INFO:fbprophet:Disabling daily seasonality. Run prophet with daily_seasonality=True to override this.\n"
          ],
          "name": "stderr"
        },
        {
          "output_type": "stream",
          "text": [
            "Model Number: 329 with model FBProphet in generation 5 of 5\n"
          ],
          "name": "stdout"
        },
        {
          "output_type": "stream",
          "text": [
            "INFO:fbprophet:Disabling yearly seasonality. Run prophet with yearly_seasonality=True to override this.\n",
            "INFO:fbprophet:Disabling daily seasonality. Run prophet with daily_seasonality=True to override this.\n"
          ],
          "name": "stderr"
        },
        {
          "output_type": "stream",
          "text": [
            "Model Number: 330 with model FBProphet in generation 5 of 5\n",
            "Model Number: 331 with model GluonTS in generation 5 of 5\n",
            "Template Eval Error: ValueError('Unable to coerce to Series, length must be 1: given 190') in model 331: GluonTS\n",
            "Model Number: 332 with model GluonTS in generation 5 of 5\n",
            "Template Eval Error: ImportError('GluonTS installation not found or installed version is incompatible with AutoTS.') in model 332: GluonTS\n",
            "Model Number: 333 with model GluonTS in generation 5 of 5\n",
            "Template Eval Error: ValueError('Unable to coerce to Series, length must be 1: given 190') in model 333: GluonTS\n",
            "Model Number: 334 with model GluonTS in generation 5 of 5\n",
            "Template Eval Error: ValueError('Unable to coerce to Series, length must be 1: given 190') in model 334: GluonTS\n",
            "Model Number: 335 with model VAR in generation 5 of 5\n",
            "Template Eval Error: ValueError('Only gave one variable to VAR') in model 335: VAR\n",
            "Model Number: 336 with model VAR in generation 5 of 5\n",
            "Template Eval Error: ValueError('Unable to coerce to Series, length must be 1: given 190') in model 336: VAR\n",
            "Model Number: 337 with model VAR in generation 5 of 5\n",
            "Template Eval Error: ValueError('Only gave one variable to VAR') in model 337: VAR\n",
            "Model Number: 338 with model VAR in generation 5 of 5\n",
            "Template Eval Error: ValueError('Only gave one variable to VAR') in model 338: VAR\n",
            "Model Number: 339 with model VECM in generation 5 of 5\n",
            "Template Eval Error: ValueError('Only gave one variable to VECM') in model 339: VECM\n",
            "Model Number: 340 with model VECM in generation 5 of 5\n",
            "Template Eval Error: ValueError('Only gave one variable to VECM') in model 340: VECM\n",
            "Model Number: 341 with model VECM in generation 5 of 5\n",
            "Template Eval Error: ValueError('Only gave one variable to VECM') in model 341: VECM\n",
            "Model Number: 342 with model VECM in generation 5 of 5\n",
            "Template Eval Error: ValueError('Only gave one variable to VECM') in model 342: VECM\n",
            "Model Number: 343 with model Ensemble in generation 0 of 0\n",
            "Model Number: 344 with model Ensemble in generation 0 of 0\n",
            "Model Number: 345 with model Ensemble in generation 0 of 0\n",
            "Validation Round: 1\n",
            "Model Number: 1 of 52 with model Ensemble for Validation 1\n",
            "Model Number: 2 of 52 with model LastValueNaive for Validation 1\n",
            "Model Number: 3 of 52 with model Ensemble for Validation 1\n",
            "Model Number: 4 of 52 with model LastValueNaive for Validation 1\n",
            "Model Number: 5 of 52 with model LastValueNaive for Validation 1\n",
            "Model Number: 6 of 52 with model LastValueNaive for Validation 1\n",
            "Model Number: 7 of 52 with model LastValueNaive for Validation 1\n",
            "Model Number: 8 of 52 with model ETS for Validation 1\n",
            "Model Number: 9 of 52 with model WindowRegression for Validation 1\n",
            "Model Number: 10 of 52 with model UnobservedComponents for Validation 1\n",
            "Model Number: 11 of 52 with model UnobservedComponents for Validation 1\n",
            "Model Number: 12 of 52 with model ETS for Validation 1\n",
            "Model Number: 13 of 52 with model RollingRegression for Validation 1\n",
            "Model Number: 14 of 52 with model UnobservedComponents for Validation 1\n",
            "Model Number: 15 of 52 with model GLM for Validation 1\n",
            "Model Number: 16 of 52 with model WindowRegression for Validation 1\n",
            "Model Number: 17 of 52 with model ETS for Validation 1\n",
            "Model Number: 18 of 52 with model GLS for Validation 1\n",
            "Model Number: 19 of 52 with model ZeroesNaive for Validation 1\n",
            "Model Number: 20 of 52 with model GLM for Validation 1\n",
            "Model Number: 21 of 52 with model RollingRegression for Validation 1\n"
          ],
          "name": "stdout"
        },
        {
          "output_type": "stream",
          "text": [
            "/usr/local/lib/python3.7/dist-packages/statsmodels/genmod/families/links.py:190: RuntimeWarning:\n",
            "\n",
            "overflow encountered in exp\n",
            "\n",
            "/usr/local/lib/python3.7/dist-packages/statsmodels/genmod/families/family.py:889: RuntimeWarning:\n",
            "\n",
            "divide by zero encountered in true_divide\n",
            "\n"
          ],
          "name": "stderr"
        },
        {
          "output_type": "stream",
          "text": [
            "Model Number: 22 of 52 with model Ensemble for Validation 1\n",
            "Model Number: 23 of 52 with model UnobservedComponents for Validation 1\n",
            "Model Number: 24 of 52 with model ZeroesNaive for Validation 1\n",
            "Model Number: 25 of 52 with model WindowRegression for Validation 1\n"
          ],
          "name": "stdout"
        },
        {
          "output_type": "stream",
          "text": [
            "/usr/local/lib/python3.7/dist-packages/sklearn/neural_network/_multilayer_perceptron.py:1342: DataConversionWarning:\n",
            "\n",
            "A column-vector y was passed when a 1d array was expected. Please change the shape of y to (n_samples, ), for example using ravel().\n",
            "\n"
          ],
          "name": "stderr"
        },
        {
          "output_type": "stream",
          "text": [
            "Model Number: 26 of 52 with model GLS for Validation 1\n",
            "Model Number: 27 of 52 with model GLS for Validation 1\n",
            "Model Number: 28 of 52 with model SeasonalNaive for Validation 1\n",
            "Model Number: 29 of 52 with model SeasonalNaive for Validation 1\n",
            "Model Number: 30 of 52 with model UnobservedComponents for Validation 1\n",
            "Model Number: 31 of 52 with model SeasonalNaive for Validation 1\n",
            "Model Number: 32 of 52 with model ETS for Validation 1\n",
            "Model Number: 33 of 52 with model AverageValueNaive for Validation 1\n",
            "Model Number: 34 of 52 with model GLS for Validation 1\n"
          ],
          "name": "stdout"
        },
        {
          "output_type": "stream",
          "text": [
            "/usr/local/lib/python3.7/dist-packages/statsmodels/tsa/holtwinters.py:712: ConvergenceWarning:\n",
            "\n",
            "Optimization failed to converge. Check mle_retvals.\n",
            "\n"
          ],
          "name": "stderr"
        },
        {
          "output_type": "stream",
          "text": [
            "Model Number: 35 of 52 with model RollingRegression for Validation 1\n",
            "Model Number: 36 of 52 with model ETS for Validation 1\n",
            "Model Number: 37 of 52 with model ZeroesNaive for Validation 1\n",
            "Model Number: 38 of 52 with model WindowRegression for Validation 1\n",
            "Model Number: 39 of 52 with model ZeroesNaive for Validation 1\n",
            "Model Number: 40 of 52 with model AverageValueNaive for Validation 1\n",
            "Model Number: 41 of 52 with model RollingRegression for Validation 1\n",
            "Model Number: 42 of 52 with model GLS for Validation 1\n",
            "Model Number: 43 of 52 with model ZeroesNaive for Validation 1\n",
            "Model Number: 44 of 52 with model SeasonalNaive for Validation 1\n",
            "Model Number: 45 of 52 with model AverageValueNaive for Validation 1\n",
            "Model Number: 46 of 52 with model DatepartRegression for Validation 1\n",
            "Model Number: 47 of 52 with model SeasonalNaive for Validation 1\n",
            "Model Number: 48 of 52 with model DatepartRegression for Validation 1\n",
            "Model Number: 49 of 52 with model DatepartRegression for Validation 1\n",
            "Model Number: 50 of 52 with model RollingRegression for Validation 1\n",
            "Model Number: 51 of 52 with model DatepartRegression for Validation 1\n",
            "Model Number: 52 of 52 with model AverageValueNaive for Validation 1\n",
            "Validation Round: 2\n",
            "Model Number: 1 of 52 with model Ensemble for Validation 2\n"
          ],
          "name": "stdout"
        },
        {
          "output_type": "stream",
          "text": [
            "/usr/local/lib/python3.7/dist-packages/sklearn/neural_network/_multilayer_perceptron.py:1342: DataConversionWarning:\n",
            "\n",
            "A column-vector y was passed when a 1d array was expected. Please change the shape of y to (n_samples, ), for example using ravel().\n",
            "\n"
          ],
          "name": "stderr"
        },
        {
          "output_type": "stream",
          "text": [
            "Model Number: 2 of 52 with model LastValueNaive for Validation 2\n",
            "Model Number: 3 of 52 with model Ensemble for Validation 2\n",
            "Model Number: 4 of 52 with model LastValueNaive for Validation 2\n",
            "Model Number: 5 of 52 with model LastValueNaive for Validation 2\n",
            "Model Number: 6 of 52 with model LastValueNaive for Validation 2\n",
            "Model Number: 7 of 52 with model LastValueNaive for Validation 2\n",
            "Model Number: 8 of 52 with model ETS for Validation 2\n",
            "Model Number: 9 of 52 with model WindowRegression for Validation 2\n",
            "Model Number: 10 of 52 with model UnobservedComponents for Validation 2\n",
            "Model Number: 11 of 52 with model UnobservedComponents for Validation 2\n",
            "Model Number: 12 of 52 with model ETS for Validation 2\n",
            "Model Number: 13 of 52 with model RollingRegression for Validation 2\n",
            "Model Number: 14 of 52 with model UnobservedComponents for Validation 2\n",
            "Model Number: 15 of 52 with model GLM for Validation 2\n",
            "Model Number: 16 of 52 with model WindowRegression for Validation 2\n",
            "Model Number: 17 of 52 with model ETS for Validation 2\n",
            "Model Number: 18 of 52 with model GLS for Validation 2\n",
            "Model Number: 19 of 52 with model ZeroesNaive for Validation 2\n",
            "Model Number: 20 of 52 with model GLM for Validation 2\n",
            "Model Number: 21 of 52 with model RollingRegression for Validation 2\n"
          ],
          "name": "stdout"
        },
        {
          "output_type": "stream",
          "text": [
            "/usr/local/lib/python3.7/dist-packages/statsmodels/genmod/families/links.py:190: RuntimeWarning:\n",
            "\n",
            "overflow encountered in exp\n",
            "\n",
            "/usr/local/lib/python3.7/dist-packages/statsmodels/genmod/families/family.py:889: RuntimeWarning:\n",
            "\n",
            "divide by zero encountered in true_divide\n",
            "\n"
          ],
          "name": "stderr"
        },
        {
          "output_type": "stream",
          "text": [
            "Model Number: 22 of 52 with model Ensemble for Validation 2\n",
            "Model Number: 23 of 52 with model UnobservedComponents for Validation 2\n",
            "Model Number: 24 of 52 with model ZeroesNaive for Validation 2\n",
            "Model Number: 25 of 52 with model WindowRegression for Validation 2\n"
          ],
          "name": "stdout"
        },
        {
          "output_type": "stream",
          "text": [
            "/usr/local/lib/python3.7/dist-packages/sklearn/neural_network/_multilayer_perceptron.py:1342: DataConversionWarning:\n",
            "\n",
            "A column-vector y was passed when a 1d array was expected. Please change the shape of y to (n_samples, ), for example using ravel().\n",
            "\n"
          ],
          "name": "stderr"
        },
        {
          "output_type": "stream",
          "text": [
            "Model Number: 26 of 52 with model GLS for Validation 2\n",
            "Model Number: 27 of 52 with model GLS for Validation 2\n",
            "Model Number: 28 of 52 with model SeasonalNaive for Validation 2\n",
            "Model Number: 29 of 52 with model SeasonalNaive for Validation 2\n",
            "Model Number: 30 of 52 with model UnobservedComponents for Validation 2\n",
            "Model Number: 31 of 52 with model SeasonalNaive for Validation 2\n",
            "Model Number: 32 of 52 with model ETS for Validation 2\n",
            "Model Number: 33 of 52 with model AverageValueNaive for Validation 2\n",
            "Model Number: 34 of 52 with model GLS for Validation 2\n",
            "Model Number: 35 of 52 with model RollingRegression for Validation 2\n",
            "Model Number: 36 of 52 with model ETS for Validation 2\n",
            "Model Number: 37 of 52 with model ZeroesNaive for Validation 2\n",
            "Model Number: 38 of 52 with model WindowRegression for Validation 2\n",
            "Model Number: 39 of 52 with model ZeroesNaive for Validation 2\n",
            "Model Number: 40 of 52 with model AverageValueNaive for Validation 2\n",
            "Model Number: 41 of 52 with model RollingRegression for Validation 2\n",
            "Model Number: 42 of 52 with model GLS for Validation 2\n",
            "Model Number: 43 of 52 with model ZeroesNaive for Validation 2\n",
            "Model Number: 44 of 52 with model SeasonalNaive for Validation 2\n",
            "Model Number: 45 of 52 with model AverageValueNaive for Validation 2\n",
            "Model Number: 46 of 52 with model DatepartRegression for Validation 2\n",
            "Model Number: 47 of 52 with model SeasonalNaive for Validation 2\n",
            "Model Number: 48 of 52 with model DatepartRegression for Validation 2\n",
            "Model Number: 49 of 52 with model DatepartRegression for Validation 2\n",
            "Model Number: 50 of 52 with model RollingRegression for Validation 2\n",
            "Model Number: 51 of 52 with model DatepartRegression for Validation 2\n",
            "Model Number: 52 of 52 with model AverageValueNaive for Validation 2\n"
          ],
          "name": "stdout"
        },
        {
          "output_type": "stream",
          "text": [
            "/usr/local/lib/python3.7/dist-packages/sklearn/neural_network/_multilayer_perceptron.py:1342: DataConversionWarning:\n",
            "\n",
            "A column-vector y was passed when a 1d array was expected. Please change the shape of y to (n_samples, ), for example using ravel().\n",
            "\n"
          ],
          "name": "stderr"
        },
        {
          "output_type": "stream",
          "text": [
            "DogeCoin Price Prediction\n",
            "               Close\n",
            "2021-06-09  0.338094\n",
            "2021-06-10  0.340065\n",
            "2021-06-11  0.342674\n",
            "2021-06-12  0.347117\n",
            "2021-06-13  0.348473\n",
            "2021-06-14  0.350507\n",
            "2021-06-15  0.353248\n",
            "2021-06-16  0.356221\n",
            "2021-06-17  0.356607\n",
            "2021-06-18  0.361161\n"
          ],
          "name": "stdout"
        }
      ]
    },
    {
      "cell_type": "markdown",
      "metadata": {
        "id": "5piHFISAwaNY"
      },
      "source": [
        "There are many machine learning approaches that we can use for the task of predicting the future prices of Dogecoin. In this article, I introduced you to how you can predict the future prices of Dogecoin by using the autots library in Python. I hope you liked this article on how to predict the future prices of Dogecoin with Machine Learning using Python. Feel free to ask your valuable questions in the comments section below."
      ]
    },
    {
      "cell_type": "code",
      "metadata": {
        "id": "OXW_4CEvwbEL"
      },
      "source": [
        ""
      ],
      "execution_count": null,
      "outputs": []
    }
  ]
}